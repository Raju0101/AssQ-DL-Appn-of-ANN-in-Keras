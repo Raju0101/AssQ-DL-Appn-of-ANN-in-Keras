{
 "cells": [
  {
   "cell_type": "markdown",
   "id": "8dbea75b-939c-4e32-915d-9c5a72bb0bcc",
   "metadata": {},
   "source": [
    "## AssQ-DL-Implementation of ANN in Keras"
   ]
  },
  {
   "cell_type": "code",
   "execution_count": null,
   "id": "181b65c0-e3e6-46af-a9fd-beb5e4b64a22",
   "metadata": {},
   "outputs": [],
   "source": [
    "Q1. Install and load the latest versions of TensorFlow and Keras. Print their versions."
   ]
  },
  {
   "cell_type": "code",
   "execution_count": null,
   "id": "58bdfbe4-bcc4-4517-9f31-aeed078f7dd1",
   "metadata": {},
   "outputs": [],
   "source": [
    "To install the latest versions of TensorFlow and Keras, \n",
    "you can use the following pip commands:"
   ]
  },
  {
   "cell_type": "code",
   "execution_count": 3,
   "id": "8fa50e72-23b5-40d5-8d1c-d534e94e171c",
   "metadata": {},
   "outputs": [
    {
     "name": "stdout",
     "output_type": "stream",
     "text": [
      "Collecting tensorflow\n",
      "  Downloading tensorflow-2.13.0-cp310-cp310-manylinux_2_17_x86_64.manylinux2014_x86_64.whl (524.1 MB)\n",
      "\u001b[2K     \u001b[90m━━━━━━━━━━━━━━━━━━━━━━━━━━━━━━━━━━━━━━━\u001b[0m \u001b[32m524.1/524.1 MB\u001b[0m \u001b[31m3.0 MB/s\u001b[0m eta \u001b[36m0:00:00\u001b[0m00:01\u001b[0m00:01\u001b[0m\n",
      "\u001b[?25hRequirement already satisfied: h5py>=2.9.0 in /opt/conda/lib/python3.10/site-packages (from tensorflow) (3.7.0)\n",
      "Collecting flatbuffers>=23.1.21\n",
      "  Downloading flatbuffers-23.5.26-py2.py3-none-any.whl (26 kB)\n",
      "Requirement already satisfied: six>=1.12.0 in /opt/conda/lib/python3.10/site-packages (from tensorflow) (1.16.0)\n",
      "Requirement already satisfied: setuptools in /opt/conda/lib/python3.10/site-packages (from tensorflow) (65.5.0)\n",
      "Collecting libclang>=13.0.0\n",
      "  Downloading libclang-16.0.6-py2.py3-none-manylinux2010_x86_64.whl (22.9 MB)\n",
      "\u001b[2K     \u001b[90m━━━━━━━━━━━━━━━━━━━━━━━━━━━━━━━━━━━━━━━━\u001b[0m \u001b[32m22.9/22.9 MB\u001b[0m \u001b[31m31.7 MB/s\u001b[0m eta \u001b[36m0:00:00\u001b[0m00:01\u001b[0m00:01\u001b[0m\n",
      "\u001b[?25hCollecting grpcio<2.0,>=1.24.3\n",
      "  Downloading grpcio-1.57.0-cp310-cp310-manylinux_2_17_x86_64.manylinux2014_x86_64.whl (5.3 MB)\n",
      "\u001b[2K     \u001b[90m━━━━━━━━━━━━━━━━━━━━━━━━━━━━━━━━━━━━━━━━\u001b[0m \u001b[32m5.3/5.3 MB\u001b[0m \u001b[31m36.2 MB/s\u001b[0m eta \u001b[36m0:00:00\u001b[0m00:01\u001b[0m00:01\u001b[0m\n",
      "\u001b[?25hCollecting tensorflow-estimator<2.14,>=2.13.0\n",
      "  Downloading tensorflow_estimator-2.13.0-py2.py3-none-any.whl (440 kB)\n",
      "\u001b[2K     \u001b[90m━━━━━━━━━━━━━━━━━━━━━━━━━━━━━━━━━━━━━━\u001b[0m \u001b[32m440.8/440.8 kB\u001b[0m \u001b[31m19.5 MB/s\u001b[0m eta \u001b[36m0:00:00\u001b[0m\n",
      "\u001b[?25hCollecting wrapt>=1.11.0\n",
      "  Downloading wrapt-1.15.0-cp310-cp310-manylinux_2_5_x86_64.manylinux1_x86_64.manylinux_2_17_x86_64.manylinux2014_x86_64.whl (78 kB)\n",
      "\u001b[2K     \u001b[90m━━━━━━━━━━━━━━━━━━━━━━━━━━━━━━━━━━━━━━━━\u001b[0m \u001b[32m78.4/78.4 kB\u001b[0m \u001b[31m11.8 MB/s\u001b[0m eta \u001b[36m0:00:00\u001b[0m\n",
      "\u001b[?25hCollecting opt-einsum>=2.3.2\n",
      "  Downloading opt_einsum-3.3.0-py3-none-any.whl (65 kB)\n",
      "\u001b[2K     \u001b[90m━━━━━━━━━━━━━━━━━━━━━━━━━━━━━━━━━━━━━━━━\u001b[0m \u001b[32m65.5/65.5 kB\u001b[0m \u001b[31m9.4 MB/s\u001b[0m eta \u001b[36m0:00:00\u001b[0m\n",
      "\u001b[?25hCollecting keras<2.14,>=2.13.1\n",
      "  Downloading keras-2.13.1-py3-none-any.whl (1.7 MB)\n",
      "\u001b[2K     \u001b[90m━━━━━━━━━━━━━━━━━━━━━━━━━━━━━━━━━━━━━━━━\u001b[0m \u001b[32m1.7/1.7 MB\u001b[0m \u001b[31m36.4 MB/s\u001b[0m eta \u001b[36m0:00:00\u001b[0m00:01\u001b[0m\n",
      "\u001b[?25hCollecting gast<=0.4.0,>=0.2.1\n",
      "  Downloading gast-0.4.0-py3-none-any.whl (9.8 kB)\n",
      "Collecting absl-py>=1.0.0\n",
      "  Downloading absl_py-1.4.0-py3-none-any.whl (126 kB)\n",
      "\u001b[2K     \u001b[90m━━━━━━━━━━━━━━━━━━━━━━━━━━━━━━━━━━━━━━\u001b[0m \u001b[32m126.5/126.5 kB\u001b[0m \u001b[31m10.2 MB/s\u001b[0m eta \u001b[36m0:00:00\u001b[0m\n",
      "\u001b[?25hCollecting termcolor>=1.1.0\n",
      "  Downloading termcolor-2.3.0-py3-none-any.whl (6.9 kB)\n",
      "Collecting google-pasta>=0.1.1\n",
      "  Downloading google_pasta-0.2.0-py3-none-any.whl (57 kB)\n",
      "\u001b[2K     \u001b[90m━━━━━━━━━━━━━━━━━━━━━━━━━━━━━━━━━━━━━━━━\u001b[0m \u001b[32m57.5/57.5 kB\u001b[0m \u001b[31m8.7 MB/s\u001b[0m eta \u001b[36m0:00:00\u001b[0m\n",
      "\u001b[?25hRequirement already satisfied: protobuf!=4.21.0,!=4.21.1,!=4.21.2,!=4.21.3,!=4.21.4,!=4.21.5,<5.0.0dev,>=3.20.3 in /opt/conda/lib/python3.10/site-packages (from tensorflow) (4.21.8)\n",
      "Collecting tensorboard<2.14,>=2.13\n",
      "  Downloading tensorboard-2.13.0-py3-none-any.whl (5.6 MB)\n",
      "\u001b[2K     \u001b[90m━━━━━━━━━━━━━━━━━━━━━━━━━━━━━━━━━━━━━━━━\u001b[0m \u001b[32m5.6/5.6 MB\u001b[0m \u001b[31m43.3 MB/s\u001b[0m eta \u001b[36m0:00:00\u001b[0m00:01\u001b[0m00:01\u001b[0m\n",
      "\u001b[?25hRequirement already satisfied: numpy<=1.24.3,>=1.22 in /opt/conda/lib/python3.10/site-packages (from tensorflow) (1.23.4)\n",
      "Collecting astunparse>=1.6.0\n",
      "  Downloading astunparse-1.6.3-py2.py3-none-any.whl (12 kB)\n",
      "Requirement already satisfied: packaging in /opt/conda/lib/python3.10/site-packages (from tensorflow) (21.3)\n",
      "Collecting tensorflow-io-gcs-filesystem>=0.23.1\n",
      "  Downloading tensorflow_io_gcs_filesystem-0.33.0-cp310-cp310-manylinux_2_12_x86_64.manylinux2010_x86_64.whl (2.4 MB)\n",
      "\u001b[2K     \u001b[90m━━━━━━━━━━━━━━━━━━━━━━━━━━━━━━━━━━━━━━━━\u001b[0m \u001b[32m2.4/2.4 MB\u001b[0m \u001b[31m43.8 MB/s\u001b[0m eta \u001b[36m0:00:00\u001b[0ma \u001b[36m0:00:01\u001b[0m\n",
      "\u001b[?25hRequirement already satisfied: typing-extensions<4.6.0,>=3.6.6 in /opt/conda/lib/python3.10/site-packages (from tensorflow) (4.4.0)\n",
      "Requirement already satisfied: wheel<1.0,>=0.23.0 in /opt/conda/lib/python3.10/site-packages (from astunparse>=1.6.0->tensorflow) (0.37.1)\n",
      "Collecting markdown>=2.6.8\n",
      "  Downloading Markdown-3.4.4-py3-none-any.whl (94 kB)\n",
      "\u001b[2K     \u001b[90m━━━━━━━━━━━━━━━━━━━━━━━━━━━━━━━━━━━━━━━━\u001b[0m \u001b[32m94.2/94.2 kB\u001b[0m \u001b[31m14.6 MB/s\u001b[0m eta \u001b[36m0:00:00\u001b[0m\n",
      "\u001b[?25hCollecting werkzeug>=1.0.1\n",
      "  Downloading werkzeug-2.3.7-py3-none-any.whl (242 kB)\n",
      "\u001b[2K     \u001b[90m━━━━━━━━━━━━━━━━━━━━━━━━━━━━━━━━━━━━━━\u001b[0m \u001b[32m242.2/242.2 kB\u001b[0m \u001b[31m12.9 MB/s\u001b[0m eta \u001b[36m0:00:00\u001b[0m\n",
      "\u001b[?25hRequirement already satisfied: requests<3,>=2.21.0 in /opt/conda/lib/python3.10/site-packages (from tensorboard<2.14,>=2.13->tensorflow) (2.28.1)\n",
      "Collecting google-auth<3,>=1.6.3\n",
      "  Downloading google_auth-2.22.0-py2.py3-none-any.whl (181 kB)\n",
      "\u001b[2K     \u001b[90m━━━━━━━━━━━━━━━━━━━━━━━━━━━━━━━━━━━━━━\u001b[0m \u001b[32m181.8/181.8 kB\u001b[0m \u001b[31m24.2 MB/s\u001b[0m eta \u001b[36m0:00:00\u001b[0m\n",
      "\u001b[?25hCollecting google-auth-oauthlib<1.1,>=0.5\n",
      "  Downloading google_auth_oauthlib-1.0.0-py2.py3-none-any.whl (18 kB)\n",
      "Collecting tensorboard-data-server<0.8.0,>=0.7.0\n",
      "  Downloading tensorboard_data_server-0.7.1-py3-none-manylinux2014_x86_64.whl (6.6 MB)\n",
      "\u001b[2K     \u001b[90m━━━━━━━━━━━━━━━━━━━━━━━━━━━━━━━━━━━━━━━━\u001b[0m \u001b[32m6.6/6.6 MB\u001b[0m \u001b[31m46.9 MB/s\u001b[0m eta \u001b[36m0:00:00\u001b[0m00:01\u001b[0m00:01\u001b[0m\n",
      "\u001b[?25hRequirement already satisfied: pyparsing!=3.0.5,>=2.0.2 in /opt/conda/lib/python3.10/site-packages (from packaging->tensorflow) (3.0.9)\n",
      "Collecting cachetools<6.0,>=2.0.0\n",
      "  Downloading cachetools-5.3.1-py3-none-any.whl (9.3 kB)\n",
      "Collecting pyasn1-modules>=0.2.1\n",
      "  Downloading pyasn1_modules-0.3.0-py2.py3-none-any.whl (181 kB)\n",
      "\u001b[2K     \u001b[90m━━━━━━━━━━━━━━━━━━━━━━━━━━━━━━━━━━━━━━\u001b[0m \u001b[32m181.3/181.3 kB\u001b[0m \u001b[31m10.2 MB/s\u001b[0m eta \u001b[36m0:00:00\u001b[0m\n",
      "\u001b[?25hRequirement already satisfied: urllib3<2.0 in /opt/conda/lib/python3.10/site-packages (from google-auth<3,>=1.6.3->tensorboard<2.14,>=2.13->tensorflow) (1.26.11)\n",
      "Collecting rsa<5,>=3.1.4\n",
      "  Downloading rsa-4.9-py3-none-any.whl (34 kB)\n",
      "Collecting requests-oauthlib>=0.7.0\n",
      "  Downloading requests_oauthlib-1.3.1-py2.py3-none-any.whl (23 kB)\n",
      "Requirement already satisfied: certifi>=2017.4.17 in /opt/conda/lib/python3.10/site-packages (from requests<3,>=2.21.0->tensorboard<2.14,>=2.13->tensorflow) (2022.9.24)\n",
      "Requirement already satisfied: charset-normalizer<3,>=2 in /opt/conda/lib/python3.10/site-packages (from requests<3,>=2.21.0->tensorboard<2.14,>=2.13->tensorflow) (2.1.1)\n",
      "Requirement already satisfied: idna<4,>=2.5 in /opt/conda/lib/python3.10/site-packages (from requests<3,>=2.21.0->tensorboard<2.14,>=2.13->tensorflow) (3.4)\n",
      "Requirement already satisfied: MarkupSafe>=2.1.1 in /opt/conda/lib/python3.10/site-packages (from werkzeug>=1.0.1->tensorboard<2.14,>=2.13->tensorflow) (2.1.1)\n",
      "Collecting pyasn1<0.6.0,>=0.4.6\n",
      "  Downloading pyasn1-0.5.0-py2.py3-none-any.whl (83 kB)\n",
      "\u001b[2K     \u001b[90m━━━━━━━━━━━━━━━━━━━━━━━━━━━━━━━━━━━━━━━━\u001b[0m \u001b[32m83.9/83.9 kB\u001b[0m \u001b[31m13.6 MB/s\u001b[0m eta \u001b[36m0:00:00\u001b[0m\n",
      "\u001b[?25hRequirement already satisfied: oauthlib>=3.0.0 in /opt/conda/lib/python3.10/site-packages (from requests-oauthlib>=0.7.0->google-auth-oauthlib<1.1,>=0.5->tensorboard<2.14,>=2.13->tensorflow) (3.2.2)\n",
      "Installing collected packages: libclang, flatbuffers, wrapt, werkzeug, termcolor, tensorflow-io-gcs-filesystem, tensorflow-estimator, tensorboard-data-server, pyasn1, opt-einsum, markdown, keras, grpcio, google-pasta, gast, cachetools, astunparse, absl-py, rsa, requests-oauthlib, pyasn1-modules, google-auth, google-auth-oauthlib, tensorboard, tensorflow\n",
      "Successfully installed absl-py-1.4.0 astunparse-1.6.3 cachetools-5.3.1 flatbuffers-23.5.26 gast-0.4.0 google-auth-2.22.0 google-auth-oauthlib-1.0.0 google-pasta-0.2.0 grpcio-1.57.0 keras-2.13.1 libclang-16.0.6 markdown-3.4.4 opt-einsum-3.3.0 pyasn1-0.5.0 pyasn1-modules-0.3.0 requests-oauthlib-1.3.1 rsa-4.9 tensorboard-2.13.0 tensorboard-data-server-0.7.1 tensorflow-2.13.0 tensorflow-estimator-2.13.0 tensorflow-io-gcs-filesystem-0.33.0 termcolor-2.3.0 werkzeug-2.3.7 wrapt-1.15.0\n",
      "Requirement already satisfied: keras in /opt/conda/lib/python3.10/site-packages (2.13.1)\n"
     ]
    }
   ],
   "source": [
    "! pip install tensorflow\n",
    "! pip install keras"
   ]
  },
  {
   "cell_type": "code",
   "execution_count": 5,
   "id": "e9af1b44-edfe-4b29-b69d-32b3746194fe",
   "metadata": {},
   "outputs": [
    {
     "name": "stdout",
     "output_type": "stream",
     "text": [
      "TensorFlow version: 2.13.0\n"
     ]
    },
    {
     "ename": "AttributeError",
     "evalue": "module 'keras.api._v2.keras' has no attribute '__version__'",
     "output_type": "error",
     "traceback": [
      "\u001b[0;31m---------------------------------------------------------------------------\u001b[0m",
      "\u001b[0;31mAttributeError\u001b[0m                            Traceback (most recent call last)",
      "Cell \u001b[0;32mIn [5], line 5\u001b[0m\n\u001b[1;32m      2\u001b[0m \u001b[38;5;28;01mfrom\u001b[39;00m \u001b[38;5;21;01mtensorflow\u001b[39;00m \u001b[38;5;28;01mimport\u001b[39;00m keras\n\u001b[1;32m      4\u001b[0m \u001b[38;5;28mprint\u001b[39m(\u001b[38;5;124m\"\u001b[39m\u001b[38;5;124mTensorFlow version:\u001b[39m\u001b[38;5;124m\"\u001b[39m, tf\u001b[38;5;241m.\u001b[39m__version__)\n\u001b[0;32m----> 5\u001b[0m \u001b[38;5;28mprint\u001b[39m(\u001b[38;5;124m\"\u001b[39m\u001b[38;5;124mKeras version:\u001b[39m\u001b[38;5;124m\"\u001b[39m, \u001b[43mkeras\u001b[49m\u001b[38;5;241;43m.\u001b[39;49m\u001b[43m__version__\u001b[49m)\n",
      "\u001b[0;31mAttributeError\u001b[0m: module 'keras.api._v2.keras' has no attribute '__version__'"
     ]
    }
   ],
   "source": [
    "import tensorflow as tf\n",
    "from tensorflow import keras\n",
    "\n",
    "print(\"TensorFlow version:\", tf.__version__)\n",
    "print(\"Keras version:\", keras.__version__)"
   ]
  },
  {
   "cell_type": "code",
   "execution_count": null,
   "id": "61b5448b-e220-4a18-b203-7dcb5b51f841",
   "metadata": {},
   "outputs": [],
   "source": [
    "Keep in mind that the commands and code above assume you have Python and pip properly \n",
    "set up in your environment. Also, make sure you're using a virtual environment if desired to\n",
    "avoid conflicts with other packages."
   ]
  },
  {
   "cell_type": "code",
   "execution_count": null,
   "id": "39423140-ff7a-4555-b9ec-3fcfe64d46de",
   "metadata": {},
   "outputs": [],
   "source": []
  },
  {
   "cell_type": "code",
   "execution_count": null,
   "id": "c9cdee9e-442c-4a4d-8b80-e0fe602ad1c2",
   "metadata": {},
   "outputs": [],
   "source": [
    "Q2. Load the Wine Quality dataset and explore its dimensions. "
   ]
  },
  {
   "cell_type": "code",
   "execution_count": null,
   "id": "c6572caf-ec70-44ec-97e1-fd8ebe6f02ed",
   "metadata": {},
   "outputs": [],
   "source": [
    " the Wine Quality dataset is a popular dataset for regression tasks. It contains various \n",
    "    chemical properties of wines and their associated quality ratings. You can load it using \n",
    "    the pandas library in Python. If you don't have it installed, you can install it using:\n"
   ]
  },
  {
   "cell_type": "code",
   "execution_count": 6,
   "id": "da2b8122-cf57-4568-9a27-6b751726149a",
   "metadata": {},
   "outputs": [
    {
     "name": "stdout",
     "output_type": "stream",
     "text": [
      "Requirement already satisfied: pandas in /opt/conda/lib/python3.10/site-packages (1.5.1)\n",
      "Requirement already satisfied: python-dateutil>=2.8.1 in /opt/conda/lib/python3.10/site-packages (from pandas) (2.8.2)\n",
      "Requirement already satisfied: pytz>=2020.1 in /opt/conda/lib/python3.10/site-packages (from pandas) (2022.5)\n",
      "Requirement already satisfied: numpy>=1.21.0 in /opt/conda/lib/python3.10/site-packages (from pandas) (1.23.4)\n",
      "Requirement already satisfied: six>=1.5 in /opt/conda/lib/python3.10/site-packages (from python-dateutil>=2.8.1->pandas) (1.16.0)\n"
     ]
    }
   ],
   "source": [
    "! pip install pandas"
   ]
  },
  {
   "cell_type": "code",
   "execution_count": 7,
   "id": "61eb6f3c-2228-419f-9981-dadc6849cac6",
   "metadata": {},
   "outputs": [
    {
     "name": "stdout",
     "output_type": "stream",
     "text": [
      "Number of rows: 4898\n",
      "Number of columns: 12\n"
     ]
    }
   ],
   "source": [
    "import pandas as pd\n",
    "\n",
    "# Load the dataset\n",
    "url = \"https://archive.ics.uci.edu/ml/machine-learning-databases/wine-quality/winequality-white.csv\"\n",
    "wine_data = pd.read_csv(url, sep=';')\n",
    "\n",
    "# Display the dimensions of the dataset\n",
    "rows, columns = wine_data.shape\n",
    "print(\"Number of rows:\", rows)\n",
    "print(\"Number of columns:\", columns)"
   ]
  },
  {
   "cell_type": "code",
   "execution_count": null,
   "id": "fde3fddf-3868-4b8b-a9cc-9b7bfded0b06",
   "metadata": {},
   "outputs": [],
   "source": [
    "This code snippet will load the dataset from the provided URL and then \n",
    "print the number of rows and columns in the dataset. The dataset contains \n",
    "information about various chemical properties of white wines and their quality ratings."
   ]
  },
  {
   "cell_type": "code",
   "execution_count": null,
   "id": "c6177fb9-d560-4854-a848-571a66d4c3e9",
   "metadata": {},
   "outputs": [],
   "source": []
  },
  {
   "cell_type": "code",
   "execution_count": null,
   "id": "da332de7-11fb-417c-a34a-c9f3d638dc20",
   "metadata": {},
   "outputs": [],
   "source": [
    "Q3. Check for null values, identify categorical variables, and encode them."
   ]
  },
  {
   "cell_type": "code",
   "execution_count": null,
   "id": "c00f87c9-60ce-4a65-a6aa-b90b97945779",
   "metadata": {},
   "outputs": [],
   "source": [
    "To check for null values, identify categorical variables, and encode them, you can use the following code:"
   ]
  },
  {
   "cell_type": "code",
   "execution_count": 8,
   "id": "9bac8410-181c-41e9-8d00-511d73b6cd00",
   "metadata": {},
   "outputs": [
    {
     "name": "stdout",
     "output_type": "stream",
     "text": [
      "Null value counts:\n",
      "fixed acidity           0\n",
      "volatile acidity        0\n",
      "citric acid             0\n",
      "residual sugar          0\n",
      "chlorides               0\n",
      "free sulfur dioxide     0\n",
      "total sulfur dioxide    0\n",
      "density                 0\n",
      "pH                      0\n",
      "sulphates               0\n",
      "alcohol                 0\n",
      "quality                 0\n",
      "dtype: int64\n",
      "Categorical variables:\n",
      "Index([], dtype='object')\n",
      "Encoded dataset dimensions - rows: 4898\n",
      "Encoded dataset dimensions - columns: 12\n"
     ]
    }
   ],
   "source": [
    "# Load the dataset\n",
    "url = \"https://archive.ics.uci.edu/ml/machine-learning-databases/wine-quality/winequality-white.csv\"\n",
    "wine_data = pd.read_csv(url, sep=';')\n",
    "\n",
    "# Check for null values\n",
    "null_counts = wine_data.isnull().sum()\n",
    "print(\"Null value counts:\")\n",
    "print(null_counts)\n",
    "\n",
    "# Identify categorical variables\n",
    "categorical_vars = wine_data.select_dtypes(include=['object']).columns\n",
    "print(\"Categorical variables:\")\n",
    "print(categorical_vars)\n",
    "\n",
    "# Encode categorical variables\n",
    "wine_data_encoded = pd.get_dummies(wine_data, columns=categorical_vars)\n",
    "\n",
    "# Display the dimensions of the encoded dataset\n",
    "encoded_rows, encoded_columns = wine_data_encoded.shape\n",
    "print(\"Encoded dataset dimensions - rows:\", encoded_rows)\n",
    "print(\"Encoded dataset dimensions - columns:\", encoded_columns)"
   ]
  },
  {
   "cell_type": "code",
   "execution_count": null,
   "id": "c4225db5-1b82-44d5-8faa-da94e182daa4",
   "metadata": {},
   "outputs": [],
   "source": [
    "In this code, isnull().sum() is used to count the null values in each column of \n",
    "the dataset. The select_dtypes() function helps identify columns with categorical data types.\n",
    "The pd.get_dummies() function is used to one-hot encode the categorical variables.\n",
    "This will create new columns for each category in the categorical variables.\n",
    "The dimensions of the encoded dataset are then printed."
   ]
  },
  {
   "cell_type": "code",
   "execution_count": null,
   "id": "3a3246c3-5112-4a81-88cd-7b83c7868f19",
   "metadata": {},
   "outputs": [],
   "source": []
  },
  {
   "cell_type": "code",
   "execution_count": null,
   "id": "0839d9fc-c9a6-4941-af93-810bac58b56a",
   "metadata": {},
   "outputs": [],
   "source": [
    "Q4. Separate the features and target variables from the dataset."
   ]
  },
  {
   "cell_type": "code",
   "execution_count": null,
   "id": "536ad44d-2157-445d-a387-eff02af75b04",
   "metadata": {},
   "outputs": [],
   "source": [
    "To separate the features and target variables from the dataset, you can use the following code:"
   ]
  },
  {
   "cell_type": "code",
   "execution_count": 9,
   "id": "8f898009-90e7-4cc0-b64c-a97f91cf7848",
   "metadata": {},
   "outputs": [
    {
     "name": "stdout",
     "output_type": "stream",
     "text": [
      "Train features shape: (3918, 11)\n",
      "Test features shape: (980, 11)\n",
      "Train target shape: (3918,)\n",
      "Test target shape: (980,)\n"
     ]
    }
   ],
   "source": [
    "import pandas as pd\n",
    "from sklearn.model_selection import train_test_split\n",
    "\n",
    "# Load the dataset\n",
    "url = \"https://archive.ics.uci.edu/ml/machine-learning-databases/wine-quality/winequality-white.csv\"\n",
    "wine_data = pd.read_csv(url, sep=';')\n",
    "\n",
    "# Separate features and target variable\n",
    "features = wine_data.drop(columns=['quality'])  # Drop the 'quality' column\n",
    "target = wine_data['quality']\n",
    "\n",
    "# Split the data into training and testing sets\n",
    "train_features, test_features, train_target, test_target = train_test_split(features, target, test_size=0.2, random_state=42)\n",
    "\n",
    "# Display the dimensions of the datasets\n",
    "print(\"Train features shape:\", train_features.shape)\n",
    "print(\"Test features shape:\", test_features.shape)\n",
    "print(\"Train target shape:\", train_target.shape)\n",
    "print(\"Test target shape:\", test_target.shape)"
   ]
  },
  {
   "cell_type": "code",
   "execution_count": null,
   "id": "b812167a-3e5d-47a9-a445-ad973ce58dab",
   "metadata": {},
   "outputs": [],
   "source": [
    "In this code, the drop() function is used to remove the 'quality' column from the features,\n",
    "and the 'quality' column becomes the target variable. The train_test_split() function is \n",
    "then used to split the data into training and testing sets. \n",
    "The dimensions of the resulting datasets are printed to verify the separation."
   ]
  },
  {
   "cell_type": "code",
   "execution_count": null,
   "id": "eb7e0f92-b059-4a34-92fe-282d1b6ccf69",
   "metadata": {},
   "outputs": [],
   "source": []
  },
  {
   "cell_type": "code",
   "execution_count": null,
   "id": "c7c545ab-085b-4be1-b99a-a5303f51252e",
   "metadata": {},
   "outputs": [],
   "source": [
    "Q5. Perform a train-test split, dividing the data into training, validation, and test datasets."
   ]
  },
  {
   "cell_type": "code",
   "execution_count": null,
   "id": "6d92f4d1-b02b-4469-99dc-736d519668a3",
   "metadata": {},
   "outputs": [],
   "source": [
    "To perform a train-test split and further divide the data into training, validation, \n",
    "and test datasets, you can use the following code:"
   ]
  },
  {
   "cell_type": "code",
   "execution_count": 10,
   "id": "522cf518-96ba-4d5e-96fe-8017d44f44c9",
   "metadata": {},
   "outputs": [
    {
     "name": "stdout",
     "output_type": "stream",
     "text": [
      "Train features shape: (3428, 11)\n",
      "Validation features shape: (735, 11)\n",
      "Test features shape: (735, 11)\n",
      "Train target shape: (3428,)\n",
      "Validation target shape: (735,)\n",
      "Test target shape: (735,)\n"
     ]
    }
   ],
   "source": [
    "import pandas as pd\n",
    "from sklearn.model_selection import train_test_split\n",
    "\n",
    "# Load the dataset\n",
    "url = \"https://archive.ics.uci.edu/ml/machine-learning-databases/wine-quality/winequality-white.csv\"\n",
    "wine_data = pd.read_csv(url, sep=';')\n",
    "\n",
    "# Separate features and target variable\n",
    "features = wine_data.drop(columns=['quality'])  # Drop the 'quality' column\n",
    "target = wine_data['quality']\n",
    "\n",
    "# Split the data into training, validation, and test sets\n",
    "train_features, temp_features, train_target, temp_target = train_test_split(features, target, test_size=0.3, random_state=42)\n",
    "validation_features, test_features, validation_target, test_target = train_test_split(temp_features, temp_target, test_size=0.5, random_state=42)\n",
    "\n",
    "# Display the dimensions of the datasets\n",
    "print(\"Train features shape:\", train_features.shape)\n",
    "print(\"Validation features shape:\", validation_features.shape)\n",
    "print(\"Test features shape:\", test_features.shape)\n",
    "print(\"Train target shape:\", train_target.shape)\n",
    "print(\"Validation target shape:\", validation_target.shape)\n",
    "print(\"Test target shape:\", test_target.shape)"
   ]
  },
  {
   "cell_type": "code",
   "execution_count": null,
   "id": "87cf669e-cee8-45fe-99de-95f1070942ef",
   "metadata": {},
   "outputs": [],
   "source": [
    "In this code, the data is first divided into training and the rest (temp) using train_test_split(). \n",
    "Then, the temp data is further divided into validation and test sets. This will result in three \n",
    "sets of features and target variables: training, validation, and test. The dimensions of these\n",
    "datasets are printed to verify the split.\n"
   ]
  },
  {
   "cell_type": "code",
   "execution_count": null,
   "id": "750628b8-f6aa-4c84-8099-b2f46d2f72b9",
   "metadata": {},
   "outputs": [],
   "source": []
  },
  {
   "cell_type": "code",
   "execution_count": null,
   "id": "ffd822dc-eb18-483e-b149-890ed4310468",
   "metadata": {},
   "outputs": [],
   "source": [
    "Q6. Scale the dataset using an appropriate scaling technique."
   ]
  },
  {
   "cell_type": "code",
   "execution_count": null,
   "id": "4f73a552-70e6-48d0-9d6a-1894f1d75a23",
   "metadata": {},
   "outputs": [],
   "source": [
    "Scaling the features of a dataset is an important preprocessing step to ensure that all \n",
    "features have similar scales. A common scaling technique is Standardization (Z-score normalization),\n",
    "which scales the features to have zero mean and unit variance. You can use the StandardScaler \n",
    "from the sklearn.preprocessing module to achieve this. \n",
    "Here's how you can scale the dataset using Standardization:"
   ]
  },
  {
   "cell_type": "code",
   "execution_count": 11,
   "id": "26a6cdc1-eb11-4853-8ea8-30385cc28d42",
   "metadata": {},
   "outputs": [
    {
     "name": "stdout",
     "output_type": "stream",
     "text": [
      "Scaled features of the training set:\n",
      "[[-0.31132265 -0.28780076 -0.27645327 ... -1.13031916  0.0940735\n",
      "  -1.14685943]\n",
      " [ 1.10470658 -0.18935432  1.30066456 ... -1.06354794 -1.49278025\n",
      "   0.64257527]\n",
      " [-0.66532995 -0.48469365 -0.02743466 ...  0.87281754 -0.61119484\n",
      "   0.56123733]\n",
      " ...\n",
      " [ 0.86870171 -0.09090788  1.54968316 ... -1.13031916  0.35854912\n",
      "   0.72391321]\n",
      " [-0.66532995 -0.3862472  -0.35945947 ... -0.12875081 -0.963829\n",
      "   0.07320968]\n",
      " [ 1.45871389 -0.09090788  0.13857774 ...  0.2051053   1.24013454\n",
      "  -0.0894662 ]]\n"
     ]
    }
   ],
   "source": [
    "import pandas as pd\n",
    "from sklearn.model_selection import train_test_split\n",
    "from sklearn.preprocessing import StandardScaler\n",
    "\n",
    "# Load the dataset\n",
    "url = \"https://archive.ics.uci.edu/ml/machine-learning-databases/wine-quality/winequality-white.csv\"\n",
    "wine_data = pd.read_csv(url, sep=';')\n",
    "\n",
    "# Separate features and target variable\n",
    "features = wine_data.drop(columns=['quality'])  # Drop the 'quality' column\n",
    "target = wine_data['quality']\n",
    "\n",
    "# Split the data into training, validation, and test sets\n",
    "train_features, temp_features, train_target, temp_target = train_test_split(features, target, test_size=0.3, random_state=42)\n",
    "validation_features, test_features, validation_target, test_target = train_test_split(temp_features, temp_target, test_size=0.5, random_state=42)\n",
    "\n",
    "# Scale the features using StandardScaler\n",
    "scaler = StandardScaler()\n",
    "train_features_scaled = scaler.fit_transform(train_features)\n",
    "validation_features_scaled = scaler.transform(validation_features)\n",
    "test_features_scaled = scaler.transform(test_features)\n",
    "\n",
    "# Display the scaled features of the training set\n",
    "print(\"Scaled features of the training set:\")\n",
    "print(train_features_scaled)"
   ]
  },
  {
   "cell_type": "code",
   "execution_count": null,
   "id": "c1d34f52-240e-4f2d-b194-7edb013008c6",
   "metadata": {},
   "outputs": [],
   "source": [
    "In this code, the StandardScaler is used to scale the features. \n",
    "The fit_transform() method is applied to the training features, and the transform() method \n",
    "is applied to the validation and test features using the scaling parameters learned from the training data.\n",
    "The scaled features of the training set are then printed."
   ]
  },
  {
   "cell_type": "code",
   "execution_count": null,
   "id": "e973a4ec-71bd-4591-8303-0af859d53cd2",
   "metadata": {},
   "outputs": [],
   "source": []
  },
  {
   "cell_type": "code",
   "execution_count": null,
   "id": "93982e7d-f8df-47c0-95b0-8e83fc65d22b",
   "metadata": {},
   "outputs": [],
   "source": [
    "Q7. Design and implement at least two hidden layers and an output layer for the binary categorical \n",
    "variables."
   ]
  },
  {
   "cell_type": "code",
   "execution_count": null,
   "id": "d008b9b1-4158-4eb9-bf46-9b7699c45544",
   "metadata": {},
   "outputs": [],
   "source": [
    "\n",
    "Sure, here's an example of how you can design and implement a neural network with at least \n",
    "two hidden layers and an output layer for binary categorical variables using TensorFlow and Keras. In this example,\n",
    "I'll assume you have already preprocessed the data and have scaled features and target variables."
   ]
  },
  {
   "cell_type": "code",
   "execution_count": 26,
   "id": "280255c1-248f-41f0-a9d0-a9ead4a5ca68",
   "metadata": {},
   "outputs": [
    {
     "name": "stdout",
     "output_type": "stream",
     "text": [
      "Model: \"sequential_10\"\n",
      "_________________________________________________________________\n",
      " Layer (type)                Output Shape              Param #   \n",
      "=================================================================\n",
      " dense_15 (Dense)            (None, 128)               1536      \n",
      "                                                                 \n",
      " dropout_10 (Dropout)        (None, 128)               0         \n",
      "                                                                 \n",
      " dense_16 (Dense)            (None, 64)                8256      \n",
      "                                                                 \n",
      " dropout_11 (Dropout)        (None, 64)                0         \n",
      "                                                                 \n",
      " dense_17 (Dense)            (None, 1)                 65        \n",
      "                                                                 \n",
      "=================================================================\n",
      "Total params: 9857 (38.50 KB)\n",
      "Trainable params: 9857 (38.50 KB)\n",
      "Non-trainable params: 0 (0.00 Byte)\n",
      "_________________________________________________________________\n"
     ]
    }
   ],
   "source": [
    "import tensorflow as tf\n",
    "from tensorflow import keras\n",
    "\n",
    "# Define the number of features in your dataset\n",
    "num_features = 11  # Replace this with the actual number of features\n",
    "\n",
    "# Create a Sequential model\n",
    "model = keras.Sequential()\n",
    "\n",
    "# Add layers to the model\n",
    "model.add(keras.layers.Input(shape=(num_features,)))  # Input layer\n",
    "\n",
    "model.add(keras.layers.Dense(128, activation='relu'))  # First hidden layer\n",
    "model.add(keras.layers.Dropout(0.3))  # Dropout\n",
    "\n",
    "model.add(keras.layers.Dense(64, activation='relu'))  # Second hidden layer\n",
    "model.add(keras.layers.Dropout(0.3))  # Dropout\n",
    "\n",
    "model.add(keras.layers.Dense(1, activation='sigmoid'))  # Output layer\n",
    "\n",
    "# Compile the model\n",
    "model.compile(optimizer='adam', loss='binary_crossentropy', metrics=['accuracy'])\n",
    "\n",
    "# Print model summary\n",
    "model.summary()"
   ]
  },
  {
   "cell_type": "code",
   "execution_count": null,
   "id": "947b658d-cbc5-42b1-a706-58704f0f3b4b",
   "metadata": {},
   "outputs": [],
   "source": [
    "In this code, we're creating a neural network model using the Sequential API from Keras.\n",
    "The model consists of an input layer with the number of features as the input shape.\n",
    "We then add two hidden layers with ReLU activation functions and dropout layers to \n",
    "prevent overfitting. The output layer has a sigmoid activation function suitable for binary classification.\n",
    "\n",
    "The model is compiled with the Adam optimizer and binary cross-entropy loss function. \n",
    "It's then trained using the training data and validated using the validation data.\n",
    "After training, the model is evaluated on the test set, and the test accuracy is printed.\n",
    "\n",
    "You'll need to adjust the architecture, hyperparameters, and other aspects of the model based \n",
    "on your specific problem and data characteristics."
   ]
  },
  {
   "cell_type": "code",
   "execution_count": null,
   "id": "c94f7987-86f2-4ddb-8989-dcad2080289a",
   "metadata": {},
   "outputs": [],
   "source": []
  },
  {
   "cell_type": "code",
   "execution_count": null,
   "id": "0ce9b4da-df6e-4979-8df6-2889b9621744",
   "metadata": {},
   "outputs": [],
   "source": [
    "Q8. Create a Sequential model in Keras and add the previously designed layers to it."
   ]
  },
  {
   "cell_type": "code",
   "execution_count": null,
   "id": "19bbbf6f-5609-4c55-8093-a0ac7ef7013b",
   "metadata": {},
   "outputs": [],
   "source": [
    "Here's how you can create a Sequential model in Keras and add the previously designed layers to it:"
   ]
  },
  {
   "cell_type": "code",
   "execution_count": 23,
   "id": "13f54324-db2d-4e3e-b311-44baab261e27",
   "metadata": {},
   "outputs": [
    {
     "name": "stdout",
     "output_type": "stream",
     "text": [
      "Model: \"sequential_7\"\n",
      "_________________________________________________________________\n",
      " Layer (type)                Output Shape              Param #   \n",
      "=================================================================\n",
      " dense_6 (Dense)             (None, 128)               1408      \n",
      "                                                                 \n",
      " dropout_4 (Dropout)         (None, 128)               0         \n",
      "                                                                 \n",
      " dense_7 (Dense)             (None, 64)                8256      \n",
      "                                                                 \n",
      " dropout_5 (Dropout)         (None, 64)                0         \n",
      "                                                                 \n",
      " dense_8 (Dense)             (None, 1)                 65        \n",
      "                                                                 \n",
      "=================================================================\n",
      "Total params: 9729 (38.00 KB)\n",
      "Trainable params: 9729 (38.00 KB)\n",
      "Non-trainable params: 0 (0.00 Byte)\n",
      "_________________________________________________________________\n"
     ]
    }
   ],
   "source": [
    "import tensorflow as tf\n",
    "from tensorflow import keras\n",
    "\n",
    "# Define the number of features in your dataset\n",
    "num_features = 10  # Replace this with the actual number of features\n",
    "\n",
    "# Create a Sequential model\n",
    "model = keras.Sequential()\n",
    "\n",
    "# Add layers to the model\n",
    "model.add(keras.layers.Input(shape=(num_features)))  # Input layer\n",
    "\n",
    "model.add(keras.layers.Dense(128, activation='relu'))  # First hidden layer\n",
    "model.add(keras.layers.Dropout(0.3))  # Dropout\n",
    "\n",
    "model.add(keras.layers.Dense(64, activation='relu'))  # Second hidden layer\n",
    "model.add(keras.layers.Dropout(0.3))  # Dropout\n",
    "\n",
    "model.add(keras.layers.Dense(1, activation='sigmoid'))  # Output layer\n",
    "\n",
    "# Compile the model\n",
    "model.compile(optimizer='adam', loss='binary_crossentropy', metrics=['accuracy'])\n",
    "\n",
    "# Print model summary\n",
    "model.summary()"
   ]
  },
  {
   "cell_type": "code",
   "execution_count": null,
   "id": "e4d4c75b-7e50-41db-80c9-6339182ac450",
   "metadata": {},
   "outputs": [],
   "source": [
    "In this code, we create a Sequential model using the keras.Sequential() constructor.\n",
    "\n",
    "We then use the add() method to add layers to the model one by one. \n",
    "This follows the architecture you previously designed: an input layer, two hidden layers with dropout,\n",
    "and an output layer.\n",
    "\n",
    "Finally, the model is compiled with the Adam optimizer and binary cross-entropy loss function, and its\n",
    "summary is printed to provide an overview of the layers and parameters. Remember to replace num_features\n",
    "with the actual number of features in your dataset."
   ]
  },
  {
   "cell_type": "code",
   "execution_count": null,
   "id": "24230ac9-7cc9-4102-b455-3a63f666198a",
   "metadata": {},
   "outputs": [],
   "source": []
  },
  {
   "cell_type": "code",
   "execution_count": 22,
   "id": "b79b8b84-2cb3-443b-a8c0-a6f9047364f0",
   "metadata": {},
   "outputs": [
    {
     "name": "stdout",
     "output_type": "stream",
     "text": [
      "Model: \"sequential_6\"\n",
      "_________________________________________________________________\n",
      " Layer (type)                Output Shape              Param #   \n",
      "=================================================================\n",
      " dense_3 (Dense)             (None, 128)               1408      \n",
      "                                                                 \n",
      " dropout_2 (Dropout)         (None, 128)               0         \n",
      "                                                                 \n",
      " dense_4 (Dense)             (None, 64)                8256      \n",
      "                                                                 \n",
      " dropout_3 (Dropout)         (None, 64)                0         \n",
      "                                                                 \n",
      " dense_5 (Dense)             (None, 1)                 65        \n",
      "                                                                 \n",
      "=================================================================\n",
      "Total params: 9729 (38.00 KB)\n",
      "Trainable params: 9729 (38.00 KB)\n",
      "Non-trainable params: 0 (0.00 Byte)\n",
      "_________________________________________________________________\n"
     ]
    }
   ],
   "source": [
    "import tensorflow as tf\n",
    "from tensorflow import keras\n",
    "\n",
    "# Define the number of features in your dataset\n",
    "num_features = 10  # Replace this with the actual number of features\n",
    "\n",
    "# Create a Sequential model\n",
    "model = keras.Sequential([\n",
    "    keras.layers.Input(shape=(num_features,)),  # Input layer\n",
    "    \n",
    "    keras.layers.Dense(128, activation='relu'),  # First hidden layer\n",
    "    keras.layers.Dropout(0.3),  # Dropout\n",
    "    \n",
    "    keras.layers.Dense(64, activation='relu'),  # Second hidden layer\n",
    "    keras.layers.Dropout(0.3),  # Dropout\n",
    "    \n",
    "    keras.layers.Dense(1, activation='sigmoid')  # Output layer\n",
    "])\n",
    "\n",
    "# Compile the model\n",
    "model.compile(optimizer='adam', loss='binary_crossentropy', metrics=['accuracy'])\n",
    "\n",
    "# Print model summary\n",
    "model.summary()"
   ]
  },
  {
   "cell_type": "code",
   "execution_count": 21,
   "id": "e2375972-ca92-497a-95d6-f8e3b5a4a739",
   "metadata": {},
   "outputs": [
    {
     "name": "stdout",
     "output_type": "stream",
     "text": [
      "Model: \"sequential_5\"\n",
      "_________________________________________________________________\n",
      " Layer (type)                Output Shape              Param #   \n",
      "=================================================================\n",
      " dense (Dense)               (None, 128)               1408      \n",
      "                                                                 \n",
      " dropout (Dropout)           (None, 128)               0         \n",
      "                                                                 \n",
      " dense_1 (Dense)             (None, 64)                8256      \n",
      "                                                                 \n",
      " dropout_1 (Dropout)         (None, 64)                0         \n",
      "                                                                 \n",
      " dense_2 (Dense)             (None, 1)                 65        \n",
      "                                                                 \n",
      "=================================================================\n",
      "Total params: 9729 (38.00 KB)\n",
      "Trainable params: 9729 (38.00 KB)\n",
      "Non-trainable params: 0 (0.00 Byte)\n",
      "_________________________________________________________________\n"
     ]
    }
   ],
   "source": [
    "import tensorflow as tf\n",
    "from tensorflow import keras\n",
    "\n",
    "# Define the number of features in your dataset\n",
    "num_features = 10  # Replace this with the actual number of features\n",
    "\n",
    "# Create a Sequential model\n",
    "model = keras.Sequential([\n",
    "    keras.layers.Input(shape=(num_features,)),  # Input layer\n",
    "    \n",
    "    keras.layers.Dense(128, activation='relu'),  # First hidden layer\n",
    "    keras.layers.Dropout(0.3),  # Dropout\n",
    "    \n",
    "    keras.layers.Dense(64, activation='relu'),  # Second hidden layer\n",
    "    keras.layers.Dropout(0.3),  # Dropout\n",
    "    \n",
    "    keras.layers.Dense(1, activation='sigmoid')  # Output layer\n",
    "])\n",
    "\n",
    "# Compile the model\n",
    "model.compile(optimizer='adam', loss='binary_crossentropy', metrics=['accuracy'])\n",
    "\n",
    "# Print model summary\n",
    "model.summary()"
   ]
  },
  {
   "cell_type": "code",
   "execution_count": null,
   "id": "55e43c86-4128-4429-b8d0-906e1968de38",
   "metadata": {},
   "outputs": [],
   "source": [
    "In this code, the entire Sequential model is created and all the layers are \n",
    "added within the keras.Sequential() constructor. This follows the architecture you \n",
    "previously designed: an input layer, two hidden layers with dropout, and an output layer.\n",
    "\n",
    "After adding the layers, the model is compiled with the Adam optimizer and binary cross-\n",
    "entropy loss function, and its summary is printed to provide an overview of the layers and parameters.\n",
    "As before, replace num_features with the actual number of features in your dataset."
   ]
  },
  {
   "cell_type": "code",
   "execution_count": null,
   "id": "302b8f8e-5c6a-4d5e-9a69-fdefd41df212",
   "metadata": {},
   "outputs": [],
   "source": []
  },
  {
   "cell_type": "code",
   "execution_count": null,
   "id": "9bd8eba9-893f-4be7-b4f4-293dad1c1664",
   "metadata": {},
   "outputs": [],
   "source": [
    "Q9. Print the summary of the model architecture."
   ]
  },
  {
   "cell_type": "code",
   "execution_count": null,
   "id": "96e7070d-e159-442c-bc7c-09c02088ec65",
   "metadata": {},
   "outputs": [],
   "source": []
  },
  {
   "cell_type": "code",
   "execution_count": 37,
   "id": "e0f32146-5610-4b32-898d-22ae78311320",
   "metadata": {},
   "outputs": [
    {
     "name": "stdout",
     "output_type": "stream",
     "text": [
      "Model: \"sequential_18\"\n",
      "_________________________________________________________________\n",
      " Layer (type)                Output Shape              Param #   \n",
      "=================================================================\n",
      " dense_39 (Dense)            (None, 128)               1536      \n",
      "                                                                 \n",
      " dropout_26 (Dropout)        (None, 128)               0         \n",
      "                                                                 \n",
      " dense_40 (Dense)            (None, 64)                8256      \n",
      "                                                                 \n",
      " dropout_27 (Dropout)        (None, 64)                0         \n",
      "                                                                 \n",
      " dense_41 (Dense)            (None, 1)                 65        \n",
      "                                                                 \n",
      "=================================================================\n",
      "Total params: 9857 (38.50 KB)\n",
      "Trainable params: 9857 (38.50 KB)\n",
      "Non-trainable params: 0 (0.00 Byte)\n",
      "_________________________________________________________________\n"
     ]
    }
   ],
   "source": [
    "import tensorflow as tf\n",
    "from tensorflow import keras\n",
    "\n",
    "# Load your data and preprocess as needed\n",
    "\n",
    "# Define the model\n",
    "model = keras.Sequential([\n",
    "    keras.layers.Input(shape=(num_features,)),  # Input layer\n",
    "    keras.layers.Dense(128, activation='relu'),  # First hidden layer\n",
    "    keras.layers.Dropout(0.3),  # Dropout\n",
    "    keras.layers.Dense(64, activation='relu'),  # Second hidden layer\n",
    "    keras.layers.Dropout(0.3),  # Dropout\n",
    "    keras.layers.Dense(1, activation='sigmoid')  # Output layer\n",
    "])\n",
    "\n",
    "# Compile the model with specified loss function, optimizer, and metrics\n",
    "model.compile(optimizer='adam', loss='binary_crossentropy', metrics=['accuracy'])\n",
    "\n",
    "# Print model summary\n",
    "model.summary()"
   ]
  },
  {
   "cell_type": "code",
   "execution_count": null,
   "id": "3ca5dbef-07be-4907-97f1-e5f55256a19c",
   "metadata": {},
   "outputs": [],
   "source": [
    "In this code, the summary() method is called on the model object to print a summary of the model's architecture,\n",
    "including the layers, output shapes, and number of parameters.\n",
    "\n",
    "Remember to replace num_features with the actual number of features in your dataset and\n",
    "adjust the data loading and preprocessing steps as needed."
   ]
  },
  {
   "cell_type": "code",
   "execution_count": null,
   "id": "101627a4-87ea-437d-be2f-6fbc60ee079e",
   "metadata": {},
   "outputs": [],
   "source": []
  },
  {
   "cell_type": "code",
   "execution_count": null,
   "id": "fd067cfc-70eb-4024-9cb7-50ac1ba9c576",
   "metadata": {},
   "outputs": [],
   "source": [
    "Q10. Set the loss function(‘binary_crossentropy’), optimizer, and include the accuracy metric in the model."
   ]
  },
  {
   "cell_type": "code",
   "execution_count": null,
   "id": "2f78e42d-6a18-499d-b8e9-cb0a92ffc50a",
   "metadata": {},
   "outputs": [],
   "source": [
    "We can set the loss function to 'binary_crossentropy',\n",
    "choose an optimizer (e.g., Adam), and include the accuracy metric in your Keras model as follows:"
   ]
  },
  {
   "cell_type": "code",
   "execution_count": 38,
   "id": "1fa06cea-8e62-4a9a-af3b-84ad02c8f0c6",
   "metadata": {},
   "outputs": [
    {
     "name": "stdout",
     "output_type": "stream",
     "text": [
      "Model: \"sequential_19\"\n",
      "_________________________________________________________________\n",
      " Layer (type)                Output Shape              Param #   \n",
      "=================================================================\n",
      " dense_42 (Dense)            (None, 128)               1536      \n",
      "                                                                 \n",
      " dropout_28 (Dropout)        (None, 128)               0         \n",
      "                                                                 \n",
      " dense_43 (Dense)            (None, 64)                8256      \n",
      "                                                                 \n",
      " dropout_29 (Dropout)        (None, 64)                0         \n",
      "                                                                 \n",
      " dense_44 (Dense)            (None, 1)                 65        \n",
      "                                                                 \n",
      "=================================================================\n",
      "Total params: 9857 (38.50 KB)\n",
      "Trainable params: 9857 (38.50 KB)\n",
      "Non-trainable params: 0 (0.00 Byte)\n",
      "_________________________________________________________________\n"
     ]
    }
   ],
   "source": [
    "import tensorflow as tf\n",
    "from tensorflow import keras\n",
    "\n",
    "# Load your data and preprocess as needed\n",
    "\n",
    "# Define the model\n",
    "model = keras.Sequential([\n",
    "    keras.layers.Input(shape=(num_features,)),  # Input layer\n",
    "    keras.layers.Dense(128, activation='relu'),  # First hidden layer\n",
    "    keras.layers.Dropout(0.3),  # Dropout\n",
    "    keras.layers.Dense(64, activation='relu'),  # Second hidden layer\n",
    "    keras.layers.Dropout(0.3),  # Dropout\n",
    "    keras.layers.Dense(1, activation='sigmoid')  # Output layer\n",
    "])\n",
    "\n",
    "# Compile the model\n",
    "model.compile(optimizer='adam', loss='binary_crossentropy', metrics=['accuracy'])\n",
    "\n",
    "# Print model summary\n",
    "model.summary()"
   ]
  },
  {
   "cell_type": "code",
   "execution_count": null,
   "id": "e667a751-674c-4f3e-8606-b92da2e60fd3",
   "metadata": {},
   "outputs": [],
   "source": [
    "In this code:\n",
    "\n",
    "The compile() method is used to set the optimizer to 'adam', the loss function\n",
    "to 'binary_crossentropy', and the metrics to include 'accuracy'.\n",
    "\n",
    "The accuracy metric will be used to evaluate the model's performance during training and evaluation.\n",
    "\n",
    "Remember to replace num_features with the actual number of features in your dataset and adjust the data \n",
    "loading and preprocessing steps as needed."
   ]
  },
  {
   "cell_type": "code",
   "execution_count": null,
   "id": "dcbea99a-6d10-4c22-a00d-2fa61c962521",
   "metadata": {},
   "outputs": [],
   "source": []
  },
  {
   "cell_type": "code",
   "execution_count": null,
   "id": "f5ea765f-b1db-4a0b-932c-aa8d5d81fb17",
   "metadata": {},
   "outputs": [],
   "source": [
    "Q11. Compile the model with the specified loss function, optimizer, and metrics."
   ]
  },
  {
   "cell_type": "code",
   "execution_count": null,
   "id": "f449685c-eab0-4310-ba49-3dec501c6df0",
   "metadata": {},
   "outputs": [],
   "source": [
    "To compile the model with the specified loss function, optimizer, and metrics, you can use the compile() \n",
    "method of your Keras model. Here's how to do it:"
   ]
  },
  {
   "cell_type": "code",
   "execution_count": 39,
   "id": "e20589fa-0070-4857-b15d-2d3531be4bae",
   "metadata": {},
   "outputs": [
    {
     "name": "stdout",
     "output_type": "stream",
     "text": [
      "Model: \"sequential_20\"\n",
      "_________________________________________________________________\n",
      " Layer (type)                Output Shape              Param #   \n",
      "=================================================================\n",
      " dense_45 (Dense)            (None, 128)               1536      \n",
      "                                                                 \n",
      " dropout_30 (Dropout)        (None, 128)               0         \n",
      "                                                                 \n",
      " dense_46 (Dense)            (None, 64)                8256      \n",
      "                                                                 \n",
      " dropout_31 (Dropout)        (None, 64)                0         \n",
      "                                                                 \n",
      " dense_47 (Dense)            (None, 1)                 65        \n",
      "                                                                 \n",
      "=================================================================\n",
      "Total params: 9857 (38.50 KB)\n",
      "Trainable params: 9857 (38.50 KB)\n",
      "Non-trainable params: 0 (0.00 Byte)\n",
      "_________________________________________________________________\n"
     ]
    }
   ],
   "source": [
    "import tensorflow as tf\n",
    "from tensorflow import keras\n",
    "\n",
    "# Load your data and preprocess as needed\n",
    "\n",
    "# Define the model\n",
    "model = keras.Sequential([\n",
    "    keras.layers.Input(shape=(num_features,)),  # Input layer\n",
    "    keras.layers.Dense(128, activation='relu'),  # First hidden layer\n",
    "    keras.layers.Dropout(0.3),  # Dropout\n",
    "    keras.layers.Dense(64, activation='relu'),  # Second hidden layer\n",
    "    keras.layers.Dropout(0.3),  # Dropout\n",
    "    keras.layers.Dense(1, activation='sigmoid')  # Output layer\n",
    "])\n",
    "\n",
    "# Compile the model with specified loss function, optimizer, and metrics\n",
    "model.compile(optimizer='adam', loss='binary_crossentropy', metrics=['accuracy'])\n",
    "\n",
    "# Print model summary\n",
    "model.summary()"
   ]
  },
  {
   "cell_type": "code",
   "execution_count": null,
   "id": "3f5107bc-9b49-421d-b00c-be6d84a59156",
   "metadata": {},
   "outputs": [],
   "source": [
    "In this code:\n",
    "\n",
    "The compile() method is used to specify the 'adam' optimizer, the 'binary_crossentropy' loss function \n",
    "(suitable for binary classification), and the metrics you want to track during training and evaluation\n",
    "(in this case, 'accuracy').\n",
    "\n",
    "The summary() method prints a summary of the model architecture, including the layers, output shapes,\n",
    "and number of parameters.\n",
    "\n",
    "Remember to replace num_features with the actual number of features in your dataset and adjust the data\n",
    "loading and preprocessing steps as needed."
   ]
  },
  {
   "cell_type": "code",
   "execution_count": null,
   "id": "502caad9-a05c-422e-953e-c4317951d0ef",
   "metadata": {},
   "outputs": [],
   "source": []
  },
  {
   "cell_type": "code",
   "execution_count": null,
   "id": "e26d7d25-4ec1-44e5-ac13-90ba092dfc55",
   "metadata": {},
   "outputs": [],
   "source": [
    "Q12. Fit the model to the training data using appropriate batch size and number of epochs."
   ]
  },
  {
   "cell_type": "code",
   "execution_count": null,
   "id": "bd614537-4b5c-48c9-9542-f1f1dd88cf7b",
   "metadata": {},
   "outputs": [],
   "source": [
    "To fit the model to the training data using an appropriate batch size and number of epochs,\n",
    "you can use the fit() method of your Keras model. Here's how you can do it:"
   ]
  },
  {
   "cell_type": "code",
   "execution_count": 40,
   "id": "a87c91c3-1c73-4ccb-b7d3-35b34abd3639",
   "metadata": {},
   "outputs": [
    {
     "name": "stdout",
     "output_type": "stream",
     "text": [
      "Model: \"sequential_21\"\n",
      "_________________________________________________________________\n",
      " Layer (type)                Output Shape              Param #   \n",
      "=================================================================\n",
      " dense_48 (Dense)            (None, 128)               1536      \n",
      "                                                                 \n",
      " dropout_32 (Dropout)        (None, 128)               0         \n",
      "                                                                 \n",
      " dense_49 (Dense)            (None, 64)                8256      \n",
      "                                                                 \n",
      " dropout_33 (Dropout)        (None, 64)                0         \n",
      "                                                                 \n",
      " dense_50 (Dense)            (None, 1)                 65        \n",
      "                                                                 \n",
      "=================================================================\n",
      "Total params: 9857 (38.50 KB)\n",
      "Trainable params: 9857 (38.50 KB)\n",
      "Non-trainable params: 0 (0.00 Byte)\n",
      "_________________________________________________________________\n",
      "Epoch 1/10\n",
      "108/108 [==============================] - 3s 14ms/step - loss: -87.4749 - accuracy: 0.0000e+00 - val_loss: -314.0193 - val_accuracy: 0.0000e+00\n",
      "Epoch 2/10\n",
      "108/108 [==============================] - 1s 8ms/step - loss: -1204.2526 - accuracy: 0.0000e+00 - val_loss: -2686.9431 - val_accuracy: 0.0000e+00\n",
      "Epoch 3/10\n",
      "108/108 [==============================] - 1s 7ms/step - loss: -5917.4307 - accuracy: 0.0000e+00 - val_loss: -10120.4414 - val_accuracy: 0.0000e+00\n",
      "Epoch 4/10\n",
      "108/108 [==============================] - 1s 7ms/step - loss: -17255.0098 - accuracy: 0.0000e+00 - val_loss: -25619.9453 - val_accuracy: 0.0000e+00\n",
      "Epoch 5/10\n",
      "108/108 [==============================] - 1s 9ms/step - loss: -38442.7812 - accuracy: 0.0000e+00 - val_loss: -52056.7656 - val_accuracy: 0.0000e+00\n",
      "Epoch 6/10\n",
      "108/108 [==============================] - 1s 8ms/step - loss: -71346.2891 - accuracy: 0.0000e+00 - val_loss: -91376.4375 - val_accuracy: 0.0000e+00\n",
      "Epoch 7/10\n",
      "108/108 [==============================] - 1s 7ms/step - loss: -119305.3359 - accuracy: 0.0000e+00 - val_loss: -146009.9062 - val_accuracy: 0.0000e+00\n",
      "Epoch 8/10\n",
      "108/108 [==============================] - 1s 8ms/step - loss: -183716.5625 - accuracy: 0.0000e+00 - val_loss: -217314.5312 - val_accuracy: 0.0000e+00\n",
      "Epoch 9/10\n",
      "108/108 [==============================] - 1s 8ms/step - loss: -264459.6250 - accuracy: 0.0000e+00 - val_loss: -307558.7188 - val_accuracy: 0.0000e+00\n",
      "Epoch 10/10\n",
      "108/108 [==============================] - 1s 7ms/step - loss: -366484.3125 - accuracy: 0.0000e+00 - val_loss: -417133.0312 - val_accuracy: 0.0000e+00\n"
     ]
    },
    {
     "data": {
      "text/plain": [
       "<keras.src.callbacks.History at 0x7f9c9870fd00>"
      ]
     },
     "execution_count": 40,
     "metadata": {},
     "output_type": "execute_result"
    }
   ],
   "source": [
    "import tensorflow as tf\n",
    "from tensorflow import keras\n",
    "\n",
    "# Load your data and preprocess as needed\n",
    "\n",
    "# Define the model\n",
    "model = keras.Sequential([\n",
    "    keras.layers.Input(shape=(num_features,)),  # Input layer\n",
    "    keras.layers.Dense(128, activation='relu'),  # First hidden layer\n",
    "    keras.layers.Dropout(0.3),  # Dropout\n",
    "    keras.layers.Dense(64, activation='relu'),  # Second hidden layer\n",
    "    keras.layers.Dropout(0.3),  # Dropout\n",
    "    keras.layers.Dense(1, activation='sigmoid')  # Output layer\n",
    "])\n",
    "\n",
    "# Compile the model with specified loss function, optimizer, and metrics\n",
    "model.compile(optimizer='adam', loss='binary_crossentropy', metrics=['accuracy'])\n",
    "\n",
    "# Print model summary\n",
    "model.summary()\n",
    "\n",
    "# Fit the model to the training data\n",
    "batch_size = 32  # Adjust as needed\n",
    "epochs = 10  # Adjust as needed\n",
    "\n",
    "model.fit(train_features_scaled, train_target, batch_size=batch_size, epochs=epochs,\n",
    "          validation_data=(validation_features_scaled, validation_target))"
   ]
  },
  {
   "cell_type": "code",
   "execution_count": null,
   "id": "d2c6430d-5c90-40d4-b270-cefbe5fe69da",
   "metadata": {},
   "outputs": [],
   "source": [
    "\n",
    "In this code:\n",
    "\n",
    "The fit() method is used to train the model using the training data.\n",
    "The batch_size parameter specifies the number of samples per gradient update.\n",
    "You can adjust it based on your available memory and computational resources.\n",
    "The epochs parameter specifies the number of times the entire training dataset is iterated over.\n",
    "You can adjust it based on the convergence of your model.\n",
    "Remember to replace num_features with the actual number of features in your dataset, and adjust \n",
    "the data loading and preprocessing steps as needed."
   ]
  },
  {
   "cell_type": "code",
   "execution_count": null,
   "id": "bfdc8096-b9b4-4dce-ac65-cd14128b1101",
   "metadata": {},
   "outputs": [],
   "source": []
  },
  {
   "cell_type": "code",
   "execution_count": null,
   "id": "caed8d35-3ec9-4446-956b-1a3caf9a96ee",
   "metadata": {},
   "outputs": [],
   "source": [
    "Q13. Obtain the model's parameters (weights and biases)."
   ]
  },
  {
   "cell_type": "code",
   "execution_count": null,
   "id": "ab9ff1fa-054c-4e81-91b8-b0fbc2deb7af",
   "metadata": {},
   "outputs": [],
   "source": [
    "To obtain the model's parameters (weights and biases), you can use the get_weights() method of each \n",
    "layer in your Keras model. Here's how you can do it:"
   ]
  },
  {
   "cell_type": "code",
   "execution_count": 41,
   "id": "86d556e7-5874-4aa3-bf1a-9ff70584014c",
   "metadata": {},
   "outputs": [
    {
     "name": "stdout",
     "output_type": "stream",
     "text": [
      "Model: \"sequential_22\"\n",
      "_________________________________________________________________\n",
      " Layer (type)                Output Shape              Param #   \n",
      "=================================================================\n",
      " dense_51 (Dense)            (None, 128)               1536      \n",
      "                                                                 \n",
      " dropout_34 (Dropout)        (None, 128)               0         \n",
      "                                                                 \n",
      " dense_52 (Dense)            (None, 64)                8256      \n",
      "                                                                 \n",
      " dropout_35 (Dropout)        (None, 64)                0         \n",
      "                                                                 \n",
      " dense_53 (Dense)            (None, 1)                 65        \n",
      "                                                                 \n",
      "=================================================================\n",
      "Total params: 9857 (38.50 KB)\n",
      "Trainable params: 9857 (38.50 KB)\n",
      "Non-trainable params: 0 (0.00 Byte)\n",
      "_________________________________________________________________\n",
      "Epoch 1/10\n",
      "108/108 [==============================] - 4s 13ms/step - loss: -98.6178 - accuracy: 0.0000e+00 - val_loss: -349.1754 - val_accuracy: 0.0000e+00\n",
      "Epoch 2/10\n",
      "108/108 [==============================] - 1s 7ms/step - loss: -1350.6334 - accuracy: 0.0000e+00 - val_loss: -3052.1147 - val_accuracy: 0.0000e+00\n",
      "Epoch 3/10\n",
      "108/108 [==============================] - 1s 8ms/step - loss: -6749.9497 - accuracy: 0.0000e+00 - val_loss: -11683.5889 - val_accuracy: 0.0000e+00\n",
      "Epoch 4/10\n",
      "108/108 [==============================] - 1s 7ms/step - loss: -19880.6602 - accuracy: 0.0000e+00 - val_loss: -29576.8008 - val_accuracy: 0.0000e+00\n",
      "Epoch 5/10\n",
      "108/108 [==============================] - 1s 7ms/step - loss: -43802.4453 - accuracy: 0.0000e+00 - val_loss: -59710.4883 - val_accuracy: 0.0000e+00\n",
      "Epoch 6/10\n",
      "108/108 [==============================] - 1s 7ms/step - loss: -81634.7109 - accuracy: 0.0000e+00 - val_loss: -104508.0078 - val_accuracy: 0.0000e+00\n",
      "Epoch 7/10\n",
      "108/108 [==============================] - 1s 8ms/step - loss: -135734.7656 - accuracy: 0.0000e+00 - val_loss: -166449.3438 - val_accuracy: 0.0000e+00\n",
      "Epoch 8/10\n",
      "108/108 [==============================] - 1s 9ms/step - loss: -208611.7344 - accuracy: 0.0000e+00 - val_loss: -248113.6250 - val_accuracy: 0.0000e+00\n",
      "Epoch 9/10\n",
      "108/108 [==============================] - 1s 8ms/step - loss: -301330.7188 - accuracy: 0.0000e+00 - val_loss: -349662.0625 - val_accuracy: 0.0000e+00\n",
      "Epoch 10/10\n",
      "108/108 [==============================] - 1s 7ms/step - loss: -416089.5000 - accuracy: 0.0000e+00 - val_loss: -474695.1875 - val_accuracy: 0.0000e+00\n",
      "Model parameters (weights and biases):\n",
      "[[array([[ 1.4305387 , -1.2090349 ,  0.14068884, ..., -1.2298168 ,\n",
      "        -1.6727607 , -0.09681061],\n",
      "       [-0.12132458, -1.2374896 , -1.5213683 , ..., -0.76855904,\n",
      "         0.32458156, -0.83226866],\n",
      "       [ 0.8521986 , -0.05936807,  0.99805856, ..., -0.67505133,\n",
      "        -1.1294291 , -0.05369479],\n",
      "       ...,\n",
      "       [-1.6847237 ,  1.6186955 , -0.58655167, ...,  1.3730564 ,\n",
      "         1.2820864 ,  1.2621787 ],\n",
      "       [-0.6792713 , -0.4874247 ,  0.7561732 , ...,  0.27045906,\n",
      "        -0.46420482,  0.3797429 ],\n",
      "       [-2.0133345 ,  1.5523274 , -1.9819628 , ...,  1.7130737 ,\n",
      "         1.8185203 ,  1.8080236 ]], dtype=float32), array([1.9497522, 2.031799 , 2.020902 , 1.9402602, 2.0132818, 1.9743392,\n",
      "       2.026105 , 1.9946586, 1.9918168, 1.9926397, 1.9746902, 2.0058274,\n",
      "       2.0116816, 1.9869652, 1.9960275, 1.9923193, 1.9947993, 2.0027065,\n",
      "       1.992899 , 1.9806753, 1.9976945, 1.9958098, 1.9605571, 1.9743826,\n",
      "       1.990183 , 1.9940615, 2.0232537, 1.9984925, 1.9938989, 2.0040588,\n",
      "       2.0130124, 2.0120244, 1.941729 , 2.0017705, 2.0149329, 1.982186 ,\n",
      "       1.9848672, 2.0019414, 2.003594 , 2.0014527, 2.0118368, 1.9416587,\n",
      "       2.0073092, 1.9590498, 1.9904416, 1.9799026, 2.0048432, 1.9583788,\n",
      "       1.9849846, 1.9755443, 1.9947542, 2.0098002, 2.007449 , 1.9731451,\n",
      "       2.0002978, 1.9697119, 1.959456 , 1.9998177, 1.9968957, 1.9812707,\n",
      "       2.001541 , 1.9823736, 2.0020068, 1.9923409, 1.9867094, 1.9878035,\n",
      "       2.0052698, 2.0291731, 2.011457 , 2.0058424, 2.02642  , 1.9860615,\n",
      "       1.9917321, 1.9680161, 1.9986938, 1.995107 , 2.0018983, 2.0209126,\n",
      "       2.0033865, 2.0280156, 2.013482 , 2.0129578, 1.9879745, 1.9909987,\n",
      "       1.9923288, 2.000119 , 1.9939837, 1.9887553, 2.037397 , 1.9799472,\n",
      "       2.015371 , 2.0238163, 1.9966611, 1.9930264, 1.926954 , 1.9996616,\n",
      "       2.0040834, 2.002702 , 2.0031788, 1.9889388, 2.0322852, 1.9801123,\n",
      "       1.978433 , 1.9999838, 1.9862963, 1.954108 , 1.9966983, 2.0003893,\n",
      "       1.9980162, 2.006877 , 1.9737707, 2.0158367, 2.0191898, 2.0135703,\n",
      "       2.0023506, 1.9976057, 1.9716735, 1.9556005, 1.9910849, 1.9981884,\n",
      "       2.017079 , 1.948901 , 1.9968853, 1.992147 , 2.0092645, 2.009943 ,\n",
      "       1.9687237, 1.9911721], dtype=float32)], [], [array([[1.7725356, 1.8180665, 1.8730587, ..., 1.7013394, 1.7760539,\n",
      "        1.7672899],\n",
      "       [1.9521325, 1.8304214, 1.9316571, ..., 1.824975 , 1.9248415,\n",
      "        2.005778 ],\n",
      "       [1.9969672, 1.7679659, 1.8741192, ..., 1.6916397, 1.9530008,\n",
      "        2.065588 ],\n",
      "       ...,\n",
      "       [1.936931 , 1.9509   , 1.8787922, ..., 1.9876399, 2.0282457,\n",
      "        1.8216122],\n",
      "       [1.883885 , 1.9556266, 1.9373924, ..., 1.9910984, 2.0035424,\n",
      "        1.9647605],\n",
      "       [1.9065591, 2.008621 , 2.0556092, ..., 1.8942723, 1.917971 ,\n",
      "        1.9425391]], dtype=float32), array([ 1.5250365 ,  1.5987177 ,  1.7116708 , -0.03464033,  1.7107991 ,\n",
      "        1.6563224 ,  1.6122973 ,  1.7082211 ,  1.6504799 , -0.03057987,\n",
      "       -0.04310309,  1.616438  , -0.03347699,  0.34549636, -0.03181734,\n",
      "       -0.03444445,  1.6728666 , -0.03616048, -0.0384545 ,  1.5297495 ,\n",
      "        1.5156087 ,  1.5477713 ,  1.5946689 ,  1.5392672 , -0.03576303,\n",
      "        1.5632753 , -0.03831833,  1.6015359 , -0.04193939,  1.6807181 ,\n",
      "        1.5271391 ,  1.6048975 ,  1.5538782 ,  1.5886602 ,  1.6823674 ,\n",
      "        1.5661622 ,  1.7044203 , -0.03196437, -0.03624873,  1.5650212 ,\n",
      "        1.5884773 ,  1.6422892 , -0.03151996,  1.6585435 , -0.03310146,\n",
      "       -0.0355052 , -0.03636217,  1.5188645 , -0.03357225,  1.6517463 ,\n",
      "       -0.04249418,  1.5109235 ,  1.5323488 ,  1.633606  ,  1.5523111 ,\n",
      "        1.5277191 , -0.03668334, -0.03559585,  1.5279067 , -0.03923426,\n",
      "        1.5914685 ,  1.6708485 ,  1.7080593 ,  1.6790152 ], dtype=float32)], [], [array([[ 2.3487904 ],\n",
      "       [ 2.2308264 ],\n",
      "       [ 2.0776834 ],\n",
      "       [-0.09404538],\n",
      "       [ 2.0808263 ],\n",
      "       [ 2.0042975 ],\n",
      "       [ 2.202619  ],\n",
      "       [ 2.0876563 ],\n",
      "       [ 2.1542253 ],\n",
      "       [-0.12850042],\n",
      "       [-0.14908607],\n",
      "       [ 2.19726   ],\n",
      "       [-0.05282799],\n",
      "       [ 0.4438956 ],\n",
      "       [-0.20356698],\n",
      "       [-0.13111338],\n",
      "       [ 2.0449626 ],\n",
      "       [-0.17407727],\n",
      "       [-0.21920185],\n",
      "       [ 2.3329468 ],\n",
      "       [ 2.3386025 ],\n",
      "       [ 2.3180068 ],\n",
      "       [ 2.2070978 ],\n",
      "       [ 2.297037  ],\n",
      "       [-0.22970052],\n",
      "       [ 2.2828076 ],\n",
      "       [-0.25798962],\n",
      "       [ 2.249064  ],\n",
      "       [-0.16965759],\n",
      "       [ 2.056878  ],\n",
      "       [ 2.3541079 ],\n",
      "       [ 2.1827974 ],\n",
      "       [ 2.2641718 ],\n",
      "       [ 2.2419784 ],\n",
      "       [ 2.1179316 ],\n",
      "       [ 2.2539952 ],\n",
      "       [ 2.081172  ],\n",
      "       [-0.12833306],\n",
      "       [-0.09821174],\n",
      "       [ 2.2421198 ],\n",
      "       [ 2.2021794 ],\n",
      "       [ 2.1761403 ],\n",
      "       [-0.13520315],\n",
      "       [ 2.1346216 ],\n",
      "       [-0.06099517],\n",
      "       [-0.02449737],\n",
      "       [-0.06322039],\n",
      "       [ 2.3346155 ],\n",
      "       [-0.14591224],\n",
      "       [ 2.129744  ],\n",
      "       [-0.24219601],\n",
      "       [ 2.3703775 ],\n",
      "       [ 2.3363001 ],\n",
      "       [ 2.1570923 ],\n",
      "       [ 2.2968662 ],\n",
      "       [ 2.3400242 ],\n",
      "       [-0.13358872],\n",
      "       [-0.23117383],\n",
      "       [ 2.367093  ],\n",
      "       [-0.10345482],\n",
      "       [ 2.2359402 ],\n",
      "       [ 2.0611632 ],\n",
      "       [ 2.0734458 ],\n",
      "       [ 2.104789  ]], dtype=float32), array([1.0760411], dtype=float32)]]\n"
     ]
    }
   ],
   "source": [
    "import tensorflow as tf\n",
    "from tensorflow import keras\n",
    "\n",
    "# Load your data and preprocess as needed\n",
    "\n",
    "# Define the model\n",
    "model = keras.Sequential([\n",
    "    keras.layers.Input(shape=(num_features,)),  # Input layer\n",
    "    keras.layers.Dense(128, activation='relu'),  # First hidden layer\n",
    "    keras.layers.Dropout(0.3),  # Dropout\n",
    "    keras.layers.Dense(64, activation='relu'),  # Second hidden layer\n",
    "    keras.layers.Dropout(0.3),  # Dropout\n",
    "    keras.layers.Dense(1, activation='sigmoid')  # Output layer\n",
    "])\n",
    "\n",
    "# Compile the model with specified loss function, optimizer, and metrics\n",
    "model.compile(optimizer='adam', loss='binary_crossentropy', metrics=['accuracy'])\n",
    "\n",
    "# Print model summary\n",
    "model.summary()\n",
    "\n",
    "# Fit the model to the training data\n",
    "batch_size = 32  # Adjust as needed\n",
    "epochs = 10  # Adjust as needed\n",
    "model.fit(train_features_scaled, train_target, batch_size=batch_size, epochs=epochs,\n",
    "          validation_data=(validation_features_scaled, validation_target))\n",
    "\n",
    "# Obtain model parameters (weights and biases)\n",
    "model_params = []\n",
    "for layer in model.layers:\n",
    "    layer_params = layer.get_weights()\n",
    "    model_params.append(layer_params)\n",
    "\n",
    "print(\"Model parameters (weights and biases):\")\n",
    "print(model_params)"
   ]
  },
  {
   "cell_type": "code",
   "execution_count": null,
   "id": "e63c2678-93b5-4bdd-8f86-653870112ffe",
   "metadata": {},
   "outputs": [],
   "source": [
    "In this code:\n",
    "\n",
    "After training the model using the fit() method, you can iterate through each layer in the model using a loop.\n",
    "For each layer, you can use the get_weights() method to retrieve the weights and biases of that layer.\n",
    "The model's parameters are stored in the model_params list, which you can print to see the weights and biases.\n",
    "Remember to replace num_features with the actual number of features in your dataset and adjust the data loading \n",
    "and preprocessing steps as needed."
   ]
  },
  {
   "cell_type": "code",
   "execution_count": null,
   "id": "44edf93a-7ffc-4719-a69b-bc0cc2f91d85",
   "metadata": {},
   "outputs": [],
   "source": []
  },
  {
   "cell_type": "code",
   "execution_count": null,
   "id": "d5d3395b-241b-4932-be2e-7c3e5da733e2",
   "metadata": {},
   "outputs": [],
   "source": [
    "Q14. Store the model's training history as a Pandas DataFrame."
   ]
  },
  {
   "cell_type": "code",
   "execution_count": null,
   "id": "74100574-ff51-457b-9c57-77d94b4eb884",
   "metadata": {},
   "outputs": [],
   "source": [
    "To store the model's training history as a Pandas DataFrame, you can capture the return value of\n",
    "the fit() method, which is a history object containing training and validation metrics for each epoch.\n",
    "You can then convert this history\n",
    "object into a DataFrame. Here's how you can do it:"
   ]
  },
  {
   "cell_type": "code",
   "execution_count": 42,
   "id": "454ad7c4-efae-46b7-84e0-db62a940572b",
   "metadata": {},
   "outputs": [
    {
     "name": "stdout",
     "output_type": "stream",
     "text": [
      "Model: \"sequential_23\"\n",
      "_________________________________________________________________\n",
      " Layer (type)                Output Shape              Param #   \n",
      "=================================================================\n",
      " dense_54 (Dense)            (None, 128)               1536      \n",
      "                                                                 \n",
      " dropout_36 (Dropout)        (None, 128)               0         \n",
      "                                                                 \n",
      " dense_55 (Dense)            (None, 64)                8256      \n",
      "                                                                 \n",
      " dropout_37 (Dropout)        (None, 64)                0         \n",
      "                                                                 \n",
      " dense_56 (Dense)            (None, 1)                 65        \n",
      "                                                                 \n",
      "=================================================================\n",
      "Total params: 9857 (38.50 KB)\n",
      "Trainable params: 9857 (38.50 KB)\n",
      "Non-trainable params: 0 (0.00 Byte)\n",
      "_________________________________________________________________\n",
      "Epoch 1/10\n",
      "108/108 [==============================] - 3s 13ms/step - loss: -73.2549 - accuracy: 0.0000e+00 - val_loss: -265.6037 - val_accuracy: 0.0000e+00\n",
      "Epoch 2/10\n",
      "108/108 [==============================] - 1s 7ms/step - loss: -1054.3671 - accuracy: 0.0000e+00 - val_loss: -2370.2493 - val_accuracy: 0.0000e+00\n",
      "Epoch 3/10\n",
      "108/108 [==============================] - 1s 7ms/step - loss: -5224.2480 - accuracy: 0.0000e+00 - val_loss: -8951.7012 - val_accuracy: 0.0000e+00\n",
      "Epoch 4/10\n",
      "108/108 [==============================] - 1s 8ms/step - loss: -15300.8145 - accuracy: 0.0000e+00 - val_loss: -22806.2090 - val_accuracy: 0.0000e+00\n",
      "Epoch 5/10\n",
      "108/108 [==============================] - 1s 6ms/step - loss: -34402.2539 - accuracy: 0.0000e+00 - val_loss: -46891.3906 - val_accuracy: 0.0000e+00\n",
      "Epoch 6/10\n",
      "108/108 [==============================] - 1s 7ms/step - loss: -64692.3672 - accuracy: 0.0000e+00 - val_loss: -83110.3750 - val_accuracy: 0.0000e+00\n",
      "Epoch 7/10\n",
      "108/108 [==============================] - 1s 6ms/step - loss: -108615.7500 - accuracy: 0.0000e+00 - val_loss: -133557.1250 - val_accuracy: 0.0000e+00\n",
      "Epoch 8/10\n",
      "108/108 [==============================] - 1s 6ms/step - loss: -167549.2969 - accuracy: 0.0000e+00 - val_loss: -199374.1719 - val_accuracy: 0.0000e+00\n",
      "Epoch 9/10\n",
      "108/108 [==============================] - 1s 8ms/step - loss: -243426.8125 - accuracy: 0.0000e+00 - val_loss: -282347.7500 - val_accuracy: 0.0000e+00\n",
      "Epoch 10/10\n",
      "108/108 [==============================] - 1s 7ms/step - loss: -336793.5312 - accuracy: 0.0000e+00 - val_loss: -383695.0625 - val_accuracy: 0.0000e+00\n",
      "            loss  accuracy       val_loss  val_accuracy\n",
      "0     -73.254852       0.0    -265.603668           0.0\n",
      "1   -1054.367065       0.0   -2370.249268           0.0\n",
      "2   -5224.248047       0.0   -8951.701172           0.0\n",
      "3  -15300.814453       0.0  -22806.208984           0.0\n",
      "4  -34402.253906       0.0  -46891.390625           0.0\n",
      "5  -64692.367188       0.0  -83110.375000           0.0\n",
      "6 -108615.750000       0.0 -133557.125000           0.0\n",
      "7 -167549.296875       0.0 -199374.171875           0.0\n",
      "8 -243426.812500       0.0 -282347.750000           0.0\n",
      "9 -336793.531250       0.0 -383695.062500           0.0\n"
     ]
    }
   ],
   "source": [
    "import tensorflow as tf\n",
    "from tensorflow import keras\n",
    "import pandas as pd\n",
    "\n",
    "# Load your data and preprocess as needed\n",
    "\n",
    "# Define the model\n",
    "model = keras.Sequential([\n",
    "    keras.layers.Input(shape=(num_features,)),  # Input layer\n",
    "    keras.layers.Dense(128, activation='relu'),  # First hidden layer\n",
    "    keras.layers.Dropout(0.3),  # Dropout\n",
    "    keras.layers.Dense(64, activation='relu'),  # Second hidden layer\n",
    "    keras.layers.Dropout(0.3),  # Dropout\n",
    "    keras.layers.Dense(1, activation='sigmoid')  # Output layer\n",
    "])\n",
    "\n",
    "# Compile the model with specified loss function, optimizer, and metrics\n",
    "model.compile(optimizer='adam', loss='binary_crossentropy', metrics=['accuracy'])\n",
    "\n",
    "# Print model summary\n",
    "model.summary()\n",
    "\n",
    "# Fit the model to the training data\n",
    "batch_size = 32  # Adjust as needed\n",
    "epochs = 10  # Adjust as needed\n",
    "history = model.fit(train_features_scaled, train_target, batch_size=batch_size, epochs=epochs,\n",
    "                    validation_data=(validation_features_scaled, validation_target))\n",
    "\n",
    "# Store training history as a Pandas DataFrame\n",
    "history_df = pd.DataFrame(history.history)\n",
    "\n",
    "# Print the training history DataFrame\n",
    "print(history_df)"
   ]
  },
  {
   "cell_type": "code",
   "execution_count": null,
   "id": "8398b960-11e8-4ca2-b505-ecb45555aa6a",
   "metadata": {},
   "outputs": [],
   "source": [
    "In this code:\n",
    "\n",
    "After training the model using the fit() method, the training history is captured in the history object.\n",
    "The history object contains dictionaries for each metric (e.g., 'loss' and 'val_loss' for training and \n",
    "                                                          validation loss, 'accuracy' and \n",
    "                                                          'val_accuracy' for training and validation accuracy).\n",
    "The pd.DataFrame() function is used to convert the history object into a Pandas DataFrame named history_df.\n",
    "Remember to replace num_features with the actual number of features in your dataset and adjust the data loading \n",
    "and preprocessing steps as needed."
   ]
  },
  {
   "cell_type": "code",
   "execution_count": null,
   "id": "70015ad5-5623-4f44-9fce-cd63fd585369",
   "metadata": {},
   "outputs": [],
   "source": []
  },
  {
   "cell_type": "code",
   "execution_count": null,
   "id": "393d5251-e254-44e2-9c17-32b8042c5903",
   "metadata": {},
   "outputs": [],
   "source": [
    "Q15. Plot the training history (e.g., accuracy and loss) using suitable visualization techniques"
   ]
  },
  {
   "cell_type": "code",
   "execution_count": null,
   "id": "a3277b6e-9311-4a7e-9e06-5ab4608b3d05",
   "metadata": {},
   "outputs": [],
   "source": [
    "To plot the training history, you can use the matplotlib library to create visualizations of the\n",
    "training and validation metrics such as accuracy and loss. \n",
    "Here's an example of how you can do this:"
   ]
  },
  {
   "cell_type": "code",
   "execution_count": 43,
   "id": "9593ded3-146d-4ade-a87f-0f4b4832bf89",
   "metadata": {},
   "outputs": [
    {
     "name": "stdout",
     "output_type": "stream",
     "text": [
      "Model: \"sequential_24\"\n",
      "_________________________________________________________________\n",
      " Layer (type)                Output Shape              Param #   \n",
      "=================================================================\n",
      " dense_57 (Dense)            (None, 128)               1536      \n",
      "                                                                 \n",
      " dropout_38 (Dropout)        (None, 128)               0         \n",
      "                                                                 \n",
      " dense_58 (Dense)            (None, 64)                8256      \n",
      "                                                                 \n",
      " dropout_39 (Dropout)        (None, 64)                0         \n",
      "                                                                 \n",
      " dense_59 (Dense)            (None, 1)                 65        \n",
      "                                                                 \n",
      "=================================================================\n",
      "Total params: 9857 (38.50 KB)\n",
      "Trainable params: 9857 (38.50 KB)\n",
      "Non-trainable params: 0 (0.00 Byte)\n",
      "_________________________________________________________________\n",
      "Epoch 1/10\n",
      "108/108 [==============================] - 3s 14ms/step - loss: -91.7221 - accuracy: 0.0000e+00 - val_loss: -333.7036 - val_accuracy: 0.0000e+00\n",
      "Epoch 2/10\n",
      "108/108 [==============================] - 1s 8ms/step - loss: -1296.3098 - accuracy: 0.0000e+00 - val_loss: -2886.0024 - val_accuracy: 0.0000e+00\n",
      "Epoch 3/10\n",
      "108/108 [==============================] - 1s 7ms/step - loss: -6277.9619 - accuracy: 0.0000e+00 - val_loss: -10785.6143 - val_accuracy: 0.0000e+00\n",
      "Epoch 4/10\n",
      "108/108 [==============================] - 1s 7ms/step - loss: -18300.6562 - accuracy: 0.0000e+00 - val_loss: -27059.8320 - val_accuracy: 0.0000e+00\n",
      "Epoch 5/10\n",
      "108/108 [==============================] - 1s 8ms/step - loss: -40307.3359 - accuracy: 0.0000e+00 - val_loss: -54570.3125 - val_accuracy: 0.0000e+00\n",
      "Epoch 6/10\n",
      "108/108 [==============================] - 1s 8ms/step - loss: -75100.8516 - accuracy: 0.0000e+00 - val_loss: -95956.4375 - val_accuracy: 0.0000e+00\n",
      "Epoch 7/10\n",
      "108/108 [==============================] - 1s 7ms/step - loss: -125097.5156 - accuracy: 0.0000e+00 - val_loss: -153058.1406 - val_accuracy: 0.0000e+00\n",
      "Epoch 8/10\n",
      "108/108 [==============================] - 1s 7ms/step - loss: -191531.8594 - accuracy: 0.0000e+00 - val_loss: -228168.2500 - val_accuracy: 0.0000e+00\n",
      "Epoch 9/10\n",
      "108/108 [==============================] - 1s 7ms/step - loss: -276396.2188 - accuracy: 0.0000e+00 - val_loss: -322485.5625 - val_accuracy: 0.0000e+00\n",
      "Epoch 10/10\n",
      "108/108 [==============================] - 1s 6ms/step - loss: -383947.8750 - accuracy: 0.0000e+00 - val_loss: -438927.9375 - val_accuracy: 0.0000e+00\n"
     ]
    },
    {
     "data": {
      "image/png": "[encoded data removed]",
      "text/plain": [
       "<Figure size 1200x600 with 2 Axes>"
      ]
     },
     "metadata": {},
     "output_type": "display_data"
    }
   ],
   "source": [
    "import matplotlib.pyplot as plt\n",
    "import tensorflow as tf\n",
    "from tensorflow import keras\n",
    "import pandas as pd\n",
    "\n",
    "# Load your data and preprocess as needed\n",
    "\n",
    "# Define the model\n",
    "model = keras.Sequential([\n",
    "    keras.layers.Input(shape=(num_features,)),  # Input layer\n",
    "    keras.layers.Dense(128, activation='relu'),  # First hidden layer\n",
    "    keras.layers.Dropout(0.3),  # Dropout\n",
    "    keras.layers.Dense(64, activation='relu'),  # Second hidden layer\n",
    "    keras.layers.Dropout(0.3),  # Dropout\n",
    "    keras.layers.Dense(1, activation='sigmoid')  # Output layer\n",
    "])\n",
    "\n",
    "# Compile the model with specified loss function, optimizer, and metrics\n",
    "model.compile(optimizer='adam', loss='binary_crossentropy', metrics=['accuracy'])\n",
    "\n",
    "# Print model summary\n",
    "model.summary()\n",
    "\n",
    "# Fit the model to the training data\n",
    "batch_size = 32  # Adjust as needed\n",
    "epochs = 10  # Adjust as needed\n",
    "history = model.fit(train_features_scaled, train_target, batch_size=batch_size, epochs=epochs,\n",
    "                    validation_data=(validation_features_scaled, validation_target))\n",
    "\n",
    "# Store training history as a Pandas DataFrame\n",
    "history_df = pd.DataFrame(history.history)\n",
    "\n",
    "# Plot training history (accuracy and loss)\n",
    "plt.figure(figsize=(12, 6))\n",
    "\n",
    "# Plot accuracy\n",
    "plt.subplot(1, 2, 1)\n",
    "plt.plot(history_df['accuracy'], label='Accuracy')\n",
    "plt.plot(history_df['val_accuracy'], label='Validation Accuracy')\n",
    "plt.xlabel('Epoch')\n",
    "plt.ylabel('Accuracy')\n",
    "plt.legend()\n",
    "plt.title('Training and Validation Accuracy')\n",
    "\n",
    "# Plot loss\n",
    "plt.subplot(1, 2, 2)\n",
    "plt.plot(history_df['loss'], label='Loss')\n",
    "plt.plot(history_df['val_loss'], label='Validation Loss')\n",
    "plt.xlabel('Epoch')\n",
    "plt.ylabel('Loss')\n",
    "plt.legend()\n",
    "plt.title('Training and Validation Loss')\n",
    "\n",
    "plt.tight_layout()\n",
    "plt.show()"
   ]
  },
  {
   "cell_type": "code",
   "execution_count": null,
   "id": "2e5cca73-880f-4f8b-8b80-9053747abbb3",
   "metadata": {},
   "outputs": [],
   "source": [
    "In this code:\n",
    "\n",
    "After training the model, the training history is captured in the history object.\n",
    "The training and validation accuracy and loss are stored in the history_df DataFrame.\n",
    "The matplotlib.pyplot library is used to create subplots for accuracy and loss visualizations.\n",
    "The plt.plot() function is used to plot the training and validation metrics over epochs.\n",
    "plt.legend(), plt.xlabel(), plt.ylabel(), and plt.title() are used to label and title the plots.\n",
    "plt.tight_layout() ensures proper spacing between subplots.\n",
    "plt.show() displays the plots.\n",
    "Remember to replace num_features with the actual number of features \n",
    "in your dataset and adjust the data loading and preprocessing steps as needed. Also, make sure you \n",
    "have the matplotlib library installed (pip install matplotlib)."
   ]
  },
  {
   "cell_type": "code",
   "execution_count": null,
   "id": "03822d36-e2d7-47b1-a974-11049e76fdf5",
   "metadata": {},
   "outputs": [],
   "source": []
  },
  {
   "cell_type": "code",
   "execution_count": null,
   "id": "14e7987b-b72d-4c9c-8074-d8b55d937995",
   "metadata": {},
   "outputs": [],
   "source": [
    "Q16. Evaluate the model's performance using the test dataset and report relevant metrics."
   ]
  },
  {
   "cell_type": "code",
   "execution_count": null,
   "id": "b82a98e3-130d-4cca-86e4-cdc162922842",
   "metadata": {},
   "outputs": [],
   "source": [
    "To evaluate the model's performance using the test dataset and report relevant metrics such as\n",
    "accuracy and loss, you can use the evaluate() method of your Keras model.\n",
    "Here's how you can do it:"
   ]
  },
  {
   "cell_type": "code",
   "execution_count": 44,
   "id": "843ed606-0eee-46c5-8d72-0583e4165726",
   "metadata": {},
   "outputs": [
    {
     "name": "stdout",
     "output_type": "stream",
     "text": [
      "Model: \"sequential_25\"\n",
      "_________________________________________________________________\n",
      " Layer (type)                Output Shape              Param #   \n",
      "=================================================================\n",
      " dense_60 (Dense)            (None, 128)               1536      \n",
      "                                                                 \n",
      " dropout_40 (Dropout)        (None, 128)               0         \n",
      "                                                                 \n",
      " dense_61 (Dense)            (None, 64)                8256      \n",
      "                                                                 \n",
      " dropout_41 (Dropout)        (None, 64)                0         \n",
      "                                                                 \n",
      " dense_62 (Dense)            (None, 1)                 65        \n",
      "                                                                 \n",
      "=================================================================\n",
      "Total params: 9857 (38.50 KB)\n",
      "Trainable params: 9857 (38.50 KB)\n",
      "Non-trainable params: 0 (0.00 Byte)\n",
      "_________________________________________________________________\n",
      "Epoch 1/10\n",
      "108/108 [==============================] - 3s 14ms/step - loss: -69.0493 - accuracy: 0.0000e+00 - val_loss: -261.1044 - val_accuracy: 0.0000e+00\n",
      "Epoch 2/10\n",
      "108/108 [==============================] - 1s 9ms/step - loss: -1107.9224 - accuracy: 0.0000e+00 - val_loss: -2555.8882 - val_accuracy: 0.0000e+00\n",
      "Epoch 3/10\n",
      "108/108 [==============================] - 1s 8ms/step - loss: -5836.0898 - accuracy: 0.0000e+00 - val_loss: -10146.2949 - val_accuracy: 0.0000e+00\n",
      "Epoch 4/10\n",
      "108/108 [==============================] - 1s 7ms/step - loss: -17571.9512 - accuracy: 0.0000e+00 - val_loss: -26074.0156 - val_accuracy: 0.0000e+00\n",
      "Epoch 5/10\n",
      "108/108 [==============================] - 1s 9ms/step - loss: -39104.7969 - accuracy: 0.0000e+00 - val_loss: -52990.1133 - val_accuracy: 0.0000e+00\n",
      "Epoch 6/10\n",
      "108/108 [==============================] - 1s 6ms/step - loss: -73158.3672 - accuracy: 0.0000e+00 - val_loss: -93209.3203 - val_accuracy: 0.0000e+00\n",
      "Epoch 7/10\n",
      "108/108 [==============================] - 1s 8ms/step - loss: -121526.7109 - accuracy: 0.0000e+00 - val_loss: -148721.0938 - val_accuracy: 0.0000e+00\n",
      "Epoch 8/10\n",
      "108/108 [==============================] - 1s 7ms/step - loss: -186490.7969 - accuracy: 0.0000e+00 - val_loss: -221437.7188 - val_accuracy: 0.0000e+00\n",
      "Epoch 9/10\n",
      "108/108 [==============================] - 1s 6ms/step - loss: -269294.2500 - accuracy: 0.0000e+00 - val_loss: -313062.3750 - val_accuracy: 0.0000e+00\n",
      "Epoch 10/10\n",
      "108/108 [==============================] - 1s 8ms/step - loss: -372767.6875 - accuracy: 0.0000e+00 - val_loss: -424728.7812 - val_accuracy: 0.0000e+00\n",
      "23/23 [==============================] - 0s 10ms/step - loss: -448437.0625 - accuracy: 0.0000e+00\n",
      "Test Loss: -448437.0625\n",
      "Test Accuracy: 0.0\n"
     ]
    }
   ],
   "source": [
    "import tensorflow as tf\n",
    "from tensorflow import keras\n",
    "\n",
    "# Load your data and preprocess as needed\n",
    "\n",
    "# Define the model\n",
    "model = keras.Sequential([\n",
    "    keras.layers.Input(shape=(num_features,)),  # Input layer\n",
    "    keras.layers.Dense(128, activation='relu'),  # First hidden layer\n",
    "    keras.layers.Dropout(0.3),  # Dropout\n",
    "    keras.layers.Dense(64, activation='relu'),  # Second hidden layer\n",
    "    keras.layers.Dropout(0.3),  # Dropout\n",
    "    keras.layers.Dense(1, activation='sigmoid')  # Output layer\n",
    "])\n",
    "\n",
    "# Compile the model with specified loss function, optimizer, and metrics\n",
    "model.compile(optimizer='adam', loss='binary_crossentropy', metrics=['accuracy'])\n",
    "\n",
    "# Print model summary\n",
    "model.summary()\n",
    "\n",
    "# Fit the model to the training data\n",
    "batch_size = 32  # Adjust as needed\n",
    "epochs = 10  # Adjust as needed\n",
    "history = model.fit(train_features_scaled, train_target, batch_size=batch_size, epochs=epochs,\n",
    "                    validation_data=(validation_features_scaled, validation_target))\n",
    "\n",
    "# Evaluate the model on the test dataset\n",
    "test_loss, test_accuracy = model.evaluate(test_features_scaled, test_target)\n",
    "\n",
    "# Print evaluation metrics\n",
    "print(\"Test Loss:\", test_loss)\n",
    "print(\"Test Accuracy:\", test_accuracy)"
   ]
  },
  {
   "cell_type": "code",
   "execution_count": null,
   "id": "3b81fc5c-f716-46bc-8cfd-b3757b3d8372",
   "metadata": {},
   "outputs": [],
   "source": [
    "In this code:\n",
    "\n",
    "After training the model using the fit() method, you can use the evaluate() method to\n",
    "assess the model's performance on the test dataset.\n",
    "The evaluate() method returns the test loss and test accuracy, which are then printed as evaluation metrics.\n",
    "Remember to replace num_features with the actual number of features in your dataset and adjust the data \n",
    "loading and preprocessing steps as needed."
   ]
  },
  {
   "cell_type": "code",
   "execution_count": null,
   "id": "9dff6bfa-3309-4bb2-a00d-e2741c29e91f",
   "metadata": {},
   "outputs": [],
   "source": [
    "...................................The End......................."
   ]
  }
 ],
 "metadata": {
  "kernelspec": {
   "display_name": "Python 3 (ipykernel)",
   "language": "python",
   "name": "python3"
  },
  "language_info": {
   "codemirror_mode": {
    "name": "ipython",
    "version": 3
   },
   "file_extension": ".py",
   "mimetype": "text/x-python",
   "name": "python",
   "nbconvert_exporter": "python",
   "pygments_lexer": "ipython3",
   "version": "3.10.6"
  }
 },
 "nbformat": 4,
 "nbformat_minor": 5
}
